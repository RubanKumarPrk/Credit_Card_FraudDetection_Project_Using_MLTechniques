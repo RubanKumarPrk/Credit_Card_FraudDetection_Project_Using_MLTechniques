{
  "nbformat": 4,
  "nbformat_minor": 0,
  "metadata": {
    "colab": {
      "provenance": [],
      "collapsed_sections": []
    },
    "kernelspec": {
      "name": "python3",
      "display_name": "Python 3"
    },
    "language_info": {
      "name": "python"
    }
  },
  "cells": [
    {
      "cell_type": "markdown",
      "source": [
        "#Credit Card Fraud Detection "
      ],
      "metadata": {
        "id": "qW8Aw0aJvGrb"
      }
    },
    {
      "cell_type": "code",
      "execution_count": 28,
      "metadata": {
        "id": "g1WoQdx8qW61"
      },
      "outputs": [],
      "source": [
        "import pandas as pd"
      ]
    },
    {
      "cell_type": "code",
      "source": [
        "data = pd.read_csv('creditcard.csv')"
      ],
      "metadata": {
        "id": "mzM5CSLnvTVO"
      },
      "execution_count": 29,
      "outputs": []
    },
    {
      "cell_type": "code",
      "source": [
        "data.shape"
      ],
      "metadata": {
        "colab": {
          "base_uri": "https://localhost:8080/"
        },
        "id": "oj0AUhjKvTYH",
        "outputId": "d0646280-4c32-4e81-f7f2-3d4e196e41b6"
      },
      "execution_count": 30,
      "outputs": [
        {
          "output_type": "execute_result",
          "data": {
            "text/plain": [
              "(284807, 31)"
            ]
          },
          "metadata": {},
          "execution_count": 30
        }
      ]
    },
    {
      "cell_type": "code",
      "source": [
        "data.head()"
      ],
      "metadata": {
        "colab": {
          "base_uri": "https://localhost:8080/",
          "height": 300
        },
        "id": "UXXfKqEjvTa8",
        "outputId": "d955a36f-4872-45e4-951d-518fe51838da"
      },
      "execution_count": 31,
      "outputs": [
        {
          "output_type": "execute_result",
          "data": {
            "text/plain": [
              "   Time        V1        V2        V3        V4        V5        V6        V7  \\\n",
              "0   0.0 -1.359807 -0.072781  2.536347  1.378155 -0.338321  0.462388  0.239599   \n",
              "1   0.0  1.191857  0.266151  0.166480  0.448154  0.060018 -0.082361 -0.078803   \n",
              "2   1.0 -1.358354 -1.340163  1.773209  0.379780 -0.503198  1.800499  0.791461   \n",
              "3   1.0 -0.966272 -0.185226  1.792993 -0.863291 -0.010309  1.247203  0.237609   \n",
              "4   2.0 -1.158233  0.877737  1.548718  0.403034 -0.407193  0.095921  0.592941   \n",
              "\n",
              "         V8        V9  ...       V21       V22       V23       V24       V25  \\\n",
              "0  0.098698  0.363787  ... -0.018307  0.277838 -0.110474  0.066928  0.128539   \n",
              "1  0.085102 -0.255425  ... -0.225775 -0.638672  0.101288 -0.339846  0.167170   \n",
              "2  0.247676 -1.514654  ...  0.247998  0.771679  0.909412 -0.689281 -0.327642   \n",
              "3  0.377436 -1.387024  ... -0.108300  0.005274 -0.190321 -1.175575  0.647376   \n",
              "4 -0.270533  0.817739  ... -0.009431  0.798278 -0.137458  0.141267 -0.206010   \n",
              "\n",
              "        V26       V27       V28  Amount  Class  \n",
              "0 -0.189115  0.133558 -0.021053  149.62      0  \n",
              "1  0.125895 -0.008983  0.014724    2.69      0  \n",
              "2 -0.139097 -0.055353 -0.059752  378.66      0  \n",
              "3 -0.221929  0.062723  0.061458  123.50      0  \n",
              "4  0.502292  0.219422  0.215153   69.99      0  \n",
              "\n",
              "[5 rows x 31 columns]"
            ],
            "text/html": [
              "\n",
              "  <div id=\"df-3ae11f9d-d2da-4610-bb79-485b79f73151\">\n",
              "    <div class=\"colab-df-container\">\n",
              "      <div>\n",
              "<style scoped>\n",
              "    .dataframe tbody tr th:only-of-type {\n",
              "        vertical-align: middle;\n",
              "    }\n",
              "\n",
              "    .dataframe tbody tr th {\n",
              "        vertical-align: top;\n",
              "    }\n",
              "\n",
              "    .dataframe thead th {\n",
              "        text-align: right;\n",
              "    }\n",
              "</style>\n",
              "<table border=\"1\" class=\"dataframe\">\n",
              "  <thead>\n",
              "    <tr style=\"text-align: right;\">\n",
              "      <th></th>\n",
              "      <th>Time</th>\n",
              "      <th>V1</th>\n",
              "      <th>V2</th>\n",
              "      <th>V3</th>\n",
              "      <th>V4</th>\n",
              "      <th>V5</th>\n",
              "      <th>V6</th>\n",
              "      <th>V7</th>\n",
              "      <th>V8</th>\n",
              "      <th>V9</th>\n",
              "      <th>...</th>\n",
              "      <th>V21</th>\n",
              "      <th>V22</th>\n",
              "      <th>V23</th>\n",
              "      <th>V24</th>\n",
              "      <th>V25</th>\n",
              "      <th>V26</th>\n",
              "      <th>V27</th>\n",
              "      <th>V28</th>\n",
              "      <th>Amount</th>\n",
              "      <th>Class</th>\n",
              "    </tr>\n",
              "  </thead>\n",
              "  <tbody>\n",
              "    <tr>\n",
              "      <th>0</th>\n",
              "      <td>0.0</td>\n",
              "      <td>-1.359807</td>\n",
              "      <td>-0.072781</td>\n",
              "      <td>2.536347</td>\n",
              "      <td>1.378155</td>\n",
              "      <td>-0.338321</td>\n",
              "      <td>0.462388</td>\n",
              "      <td>0.239599</td>\n",
              "      <td>0.098698</td>\n",
              "      <td>0.363787</td>\n",
              "      <td>...</td>\n",
              "      <td>-0.018307</td>\n",
              "      <td>0.277838</td>\n",
              "      <td>-0.110474</td>\n",
              "      <td>0.066928</td>\n",
              "      <td>0.128539</td>\n",
              "      <td>-0.189115</td>\n",
              "      <td>0.133558</td>\n",
              "      <td>-0.021053</td>\n",
              "      <td>149.62</td>\n",
              "      <td>0</td>\n",
              "    </tr>\n",
              "    <tr>\n",
              "      <th>1</th>\n",
              "      <td>0.0</td>\n",
              "      <td>1.191857</td>\n",
              "      <td>0.266151</td>\n",
              "      <td>0.166480</td>\n",
              "      <td>0.448154</td>\n",
              "      <td>0.060018</td>\n",
              "      <td>-0.082361</td>\n",
              "      <td>-0.078803</td>\n",
              "      <td>0.085102</td>\n",
              "      <td>-0.255425</td>\n",
              "      <td>...</td>\n",
              "      <td>-0.225775</td>\n",
              "      <td>-0.638672</td>\n",
              "      <td>0.101288</td>\n",
              "      <td>-0.339846</td>\n",
              "      <td>0.167170</td>\n",
              "      <td>0.125895</td>\n",
              "      <td>-0.008983</td>\n",
              "      <td>0.014724</td>\n",
              "      <td>2.69</td>\n",
              "      <td>0</td>\n",
              "    </tr>\n",
              "    <tr>\n",
              "      <th>2</th>\n",
              "      <td>1.0</td>\n",
              "      <td>-1.358354</td>\n",
              "      <td>-1.340163</td>\n",
              "      <td>1.773209</td>\n",
              "      <td>0.379780</td>\n",
              "      <td>-0.503198</td>\n",
              "      <td>1.800499</td>\n",
              "      <td>0.791461</td>\n",
              "      <td>0.247676</td>\n",
              "      <td>-1.514654</td>\n",
              "      <td>...</td>\n",
              "      <td>0.247998</td>\n",
              "      <td>0.771679</td>\n",
              "      <td>0.909412</td>\n",
              "      <td>-0.689281</td>\n",
              "      <td>-0.327642</td>\n",
              "      <td>-0.139097</td>\n",
              "      <td>-0.055353</td>\n",
              "      <td>-0.059752</td>\n",
              "      <td>378.66</td>\n",
              "      <td>0</td>\n",
              "    </tr>\n",
              "    <tr>\n",
              "      <th>3</th>\n",
              "      <td>1.0</td>\n",
              "      <td>-0.966272</td>\n",
              "      <td>-0.185226</td>\n",
              "      <td>1.792993</td>\n",
              "      <td>-0.863291</td>\n",
              "      <td>-0.010309</td>\n",
              "      <td>1.247203</td>\n",
              "      <td>0.237609</td>\n",
              "      <td>0.377436</td>\n",
              "      <td>-1.387024</td>\n",
              "      <td>...</td>\n",
              "      <td>-0.108300</td>\n",
              "      <td>0.005274</td>\n",
              "      <td>-0.190321</td>\n",
              "      <td>-1.175575</td>\n",
              "      <td>0.647376</td>\n",
              "      <td>-0.221929</td>\n",
              "      <td>0.062723</td>\n",
              "      <td>0.061458</td>\n",
              "      <td>123.50</td>\n",
              "      <td>0</td>\n",
              "    </tr>\n",
              "    <tr>\n",
              "      <th>4</th>\n",
              "      <td>2.0</td>\n",
              "      <td>-1.158233</td>\n",
              "      <td>0.877737</td>\n",
              "      <td>1.548718</td>\n",
              "      <td>0.403034</td>\n",
              "      <td>-0.407193</td>\n",
              "      <td>0.095921</td>\n",
              "      <td>0.592941</td>\n",
              "      <td>-0.270533</td>\n",
              "      <td>0.817739</td>\n",
              "      <td>...</td>\n",
              "      <td>-0.009431</td>\n",
              "      <td>0.798278</td>\n",
              "      <td>-0.137458</td>\n",
              "      <td>0.141267</td>\n",
              "      <td>-0.206010</td>\n",
              "      <td>0.502292</td>\n",
              "      <td>0.219422</td>\n",
              "      <td>0.215153</td>\n",
              "      <td>69.99</td>\n",
              "      <td>0</td>\n",
              "    </tr>\n",
              "  </tbody>\n",
              "</table>\n",
              "<p>5 rows × 31 columns</p>\n",
              "</div>\n",
              "      <button class=\"colab-df-convert\" onclick=\"convertToInteractive('df-3ae11f9d-d2da-4610-bb79-485b79f73151')\"\n",
              "              title=\"Convert this dataframe to an interactive table.\"\n",
              "              style=\"display:none;\">\n",
              "        \n",
              "  <svg xmlns=\"http://www.w3.org/2000/svg\" height=\"24px\"viewBox=\"0 0 24 24\"\n",
              "       width=\"24px\">\n",
              "    <path d=\"M0 0h24v24H0V0z\" fill=\"none\"/>\n",
              "    <path d=\"M18.56 5.44l.94 2.06.94-2.06 2.06-.94-2.06-.94-.94-2.06-.94 2.06-2.06.94zm-11 1L8.5 8.5l.94-2.06 2.06-.94-2.06-.94L8.5 2.5l-.94 2.06-2.06.94zm10 10l.94 2.06.94-2.06 2.06-.94-2.06-.94-.94-2.06-.94 2.06-2.06.94z\"/><path d=\"M17.41 7.96l-1.37-1.37c-.4-.4-.92-.59-1.43-.59-.52 0-1.04.2-1.43.59L10.3 9.45l-7.72 7.72c-.78.78-.78 2.05 0 2.83L4 21.41c.39.39.9.59 1.41.59.51 0 1.02-.2 1.41-.59l7.78-7.78 2.81-2.81c.8-.78.8-2.07 0-2.86zM5.41 20L4 18.59l7.72-7.72 1.47 1.35L5.41 20z\"/>\n",
              "  </svg>\n",
              "      </button>\n",
              "      \n",
              "  <style>\n",
              "    .colab-df-container {\n",
              "      display:flex;\n",
              "      flex-wrap:wrap;\n",
              "      gap: 12px;\n",
              "    }\n",
              "\n",
              "    .colab-df-convert {\n",
              "      background-color: #E8F0FE;\n",
              "      border: none;\n",
              "      border-radius: 50%;\n",
              "      cursor: pointer;\n",
              "      display: none;\n",
              "      fill: #1967D2;\n",
              "      height: 32px;\n",
              "      padding: 0 0 0 0;\n",
              "      width: 32px;\n",
              "    }\n",
              "\n",
              "    .colab-df-convert:hover {\n",
              "      background-color: #E2EBFA;\n",
              "      box-shadow: 0px 1px 2px rgba(60, 64, 67, 0.3), 0px 1px 3px 1px rgba(60, 64, 67, 0.15);\n",
              "      fill: #174EA6;\n",
              "    }\n",
              "\n",
              "    [theme=dark] .colab-df-convert {\n",
              "      background-color: #3B4455;\n",
              "      fill: #D2E3FC;\n",
              "    }\n",
              "\n",
              "    [theme=dark] .colab-df-convert:hover {\n",
              "      background-color: #434B5C;\n",
              "      box-shadow: 0px 1px 3px 1px rgba(0, 0, 0, 0.15);\n",
              "      filter: drop-shadow(0px 1px 2px rgba(0, 0, 0, 0.3));\n",
              "      fill: #FFFFFF;\n",
              "    }\n",
              "  </style>\n",
              "\n",
              "      <script>\n",
              "        const buttonEl =\n",
              "          document.querySelector('#df-3ae11f9d-d2da-4610-bb79-485b79f73151 button.colab-df-convert');\n",
              "        buttonEl.style.display =\n",
              "          google.colab.kernel.accessAllowed ? 'block' : 'none';\n",
              "\n",
              "        async function convertToInteractive(key) {\n",
              "          const element = document.querySelector('#df-3ae11f9d-d2da-4610-bb79-485b79f73151');\n",
              "          const dataTable =\n",
              "            await google.colab.kernel.invokeFunction('convertToInteractive',\n",
              "                                                     [key], {});\n",
              "          if (!dataTable) return;\n",
              "\n",
              "          const docLinkHtml = 'Like what you see? Visit the ' +\n",
              "            '<a target=\"_blank\" href=https://colab.research.google.com/notebooks/data_table.ipynb>data table notebook</a>'\n",
              "            + ' to learn more about interactive tables.';\n",
              "          element.innerHTML = '';\n",
              "          dataTable['output_type'] = 'display_data';\n",
              "          await google.colab.output.renderOutput(dataTable, element);\n",
              "          const docLink = document.createElement('div');\n",
              "          docLink.innerHTML = docLinkHtml;\n",
              "          element.appendChild(docLink);\n",
              "        }\n",
              "      </script>\n",
              "    </div>\n",
              "  </div>\n",
              "  "
            ]
          },
          "metadata": {},
          "execution_count": 31
        }
      ]
    },
    {
      "cell_type": "code",
      "source": [
        "data['Class'].unique()"
      ],
      "metadata": {
        "colab": {
          "base_uri": "https://localhost:8080/"
        },
        "id": "JXD1Rl0CvTdf",
        "outputId": "7a96e8d7-d7d1-43c3-fe07-1a6cdcc5c5f6"
      },
      "execution_count": 32,
      "outputs": [
        {
          "output_type": "execute_result",
          "data": {
            "text/plain": [
              "array([0, 1])"
            ]
          },
          "metadata": {},
          "execution_count": 32
        }
      ]
    },
    {
      "cell_type": "code",
      "source": [
        "data.isnull().sum()"
      ],
      "metadata": {
        "colab": {
          "base_uri": "https://localhost:8080/"
        },
        "id": "ak0jvGKmvTgb",
        "outputId": "a9d0805b-6ad6-42fb-9191-3f4559e429f1"
      },
      "execution_count": 33,
      "outputs": [
        {
          "output_type": "execute_result",
          "data": {
            "text/plain": [
              "Time      0\n",
              "V1        0\n",
              "V2        0\n",
              "V3        0\n",
              "V4        0\n",
              "V5        0\n",
              "V6        0\n",
              "V7        0\n",
              "V8        0\n",
              "V9        0\n",
              "V10       0\n",
              "V11       0\n",
              "V12       0\n",
              "V13       0\n",
              "V14       0\n",
              "V15       0\n",
              "V16       0\n",
              "V17       0\n",
              "V18       0\n",
              "V19       0\n",
              "V20       0\n",
              "V21       0\n",
              "V22       0\n",
              "V23       0\n",
              "V24       0\n",
              "V25       0\n",
              "V26       0\n",
              "V27       0\n",
              "V28       0\n",
              "Amount    0\n",
              "Class     0\n",
              "dtype: int64"
            ]
          },
          "metadata": {},
          "execution_count": 33
        }
      ]
    },
    {
      "cell_type": "code",
      "source": [
        "#value_count to check the class details\n",
        "data['Class'].value_counts()"
      ],
      "metadata": {
        "colab": {
          "base_uri": "https://localhost:8080/"
        },
        "id": "FG-4Q1ixvTmi",
        "outputId": "c94f0a97-099f-429a-951c-cadd1c3b3156"
      },
      "execution_count": 34,
      "outputs": [
        {
          "output_type": "execute_result",
          "data": {
            "text/plain": [
              "0    284315\n",
              "1       492\n",
              "Name: Class, dtype: int64"
            ]
          },
          "metadata": {},
          "execution_count": 34
        }
      ]
    },
    {
      "cell_type": "code",
      "source": [
        "#to check data types\n",
        "data.info()"
      ],
      "metadata": {
        "colab": {
          "base_uri": "https://localhost:8080/"
        },
        "id": "-QTZPFiMvTp2",
        "outputId": "6650f9b1-0024-4034-b753-0039395e630c"
      },
      "execution_count": 35,
      "outputs": [
        {
          "output_type": "stream",
          "name": "stdout",
          "text": [
            "<class 'pandas.core.frame.DataFrame'>\n",
            "RangeIndex: 284807 entries, 0 to 284806\n",
            "Data columns (total 31 columns):\n",
            " #   Column  Non-Null Count   Dtype  \n",
            "---  ------  --------------   -----  \n",
            " 0   Time    284807 non-null  float64\n",
            " 1   V1      284807 non-null  float64\n",
            " 2   V2      284807 non-null  float64\n",
            " 3   V3      284807 non-null  float64\n",
            " 4   V4      284807 non-null  float64\n",
            " 5   V5      284807 non-null  float64\n",
            " 6   V6      284807 non-null  float64\n",
            " 7   V7      284807 non-null  float64\n",
            " 8   V8      284807 non-null  float64\n",
            " 9   V9      284807 non-null  float64\n",
            " 10  V10     284807 non-null  float64\n",
            " 11  V11     284807 non-null  float64\n",
            " 12  V12     284807 non-null  float64\n",
            " 13  V13     284807 non-null  float64\n",
            " 14  V14     284807 non-null  float64\n",
            " 15  V15     284807 non-null  float64\n",
            " 16  V16     284807 non-null  float64\n",
            " 17  V17     284807 non-null  float64\n",
            " 18  V18     284807 non-null  float64\n",
            " 19  V19     284807 non-null  float64\n",
            " 20  V20     284807 non-null  float64\n",
            " 21  V21     284807 non-null  float64\n",
            " 22  V22     284807 non-null  float64\n",
            " 23  V23     284807 non-null  float64\n",
            " 24  V24     284807 non-null  float64\n",
            " 25  V25     284807 non-null  float64\n",
            " 26  V26     284807 non-null  float64\n",
            " 27  V27     284807 non-null  float64\n",
            " 28  V28     284807 non-null  float64\n",
            " 29  Amount  284807 non-null  float64\n",
            " 30  Class   284807 non-null  int64  \n",
            "dtypes: float64(30), int64(1)\n",
            "memory usage: 67.4 MB\n"
          ]
        }
      ]
    },
    {
      "cell_type": "code",
      "source": [
        "#by doing this we can can find which values need to be delete/do some precoessing\n",
        "#round function to see the float instead of all the numbers \n",
        "data.describe().round(2)"
      ],
      "metadata": {
        "colab": {
          "base_uri": "https://localhost:8080/",
          "height": 394
        },
        "id": "3ky4Nvt1vTr3",
        "outputId": "6d47a229-59c8-4b00-828d-3c0df046e36f"
      },
      "execution_count": 36,
      "outputs": [
        {
          "output_type": "execute_result",
          "data": {
            "text/plain": [
              "            Time         V1         V2         V3         V4         V5  \\\n",
              "count  284807.00  284807.00  284807.00  284807.00  284807.00  284807.00   \n",
              "mean    94813.86       0.00       0.00      -0.00       0.00       0.00   \n",
              "std     47488.15       1.96       1.65       1.52       1.42       1.38   \n",
              "min         0.00     -56.41     -72.72     -48.33      -5.68    -113.74   \n",
              "25%     54201.50      -0.92      -0.60      -0.89      -0.85      -0.69   \n",
              "50%     84692.00       0.02       0.07       0.18      -0.02      -0.05   \n",
              "75%    139320.50       1.32       0.80       1.03       0.74       0.61   \n",
              "max    172792.00       2.45      22.06       9.38      16.88      34.80   \n",
              "\n",
              "              V6         V7         V8         V9  ...        V21        V22  \\\n",
              "count  284807.00  284807.00  284807.00  284807.00  ...  284807.00  284807.00   \n",
              "mean        0.00      -0.00       0.00      -0.00  ...       0.00      -0.00   \n",
              "std         1.33       1.24       1.19       1.10  ...       0.73       0.73   \n",
              "min       -26.16     -43.56     -73.22     -13.43  ...     -34.83     -10.93   \n",
              "25%        -0.77      -0.55      -0.21      -0.64  ...      -0.23      -0.54   \n",
              "50%        -0.27       0.04       0.02      -0.05  ...      -0.03       0.01   \n",
              "75%         0.40       0.57       0.33       0.60  ...       0.19       0.53   \n",
              "max        73.30     120.59      20.01      15.59  ...      27.20      10.50   \n",
              "\n",
              "             V23        V24        V25        V26        V27        V28  \\\n",
              "count  284807.00  284807.00  284807.00  284807.00  284807.00  284807.00   \n",
              "mean        0.00       0.00       0.00       0.00      -0.00      -0.00   \n",
              "std         0.62       0.61       0.52       0.48       0.40       0.33   \n",
              "min       -44.81      -2.84     -10.30      -2.60     -22.57     -15.43   \n",
              "25%        -0.16      -0.35      -0.32      -0.33      -0.07      -0.05   \n",
              "50%        -0.01       0.04       0.02      -0.05       0.00       0.01   \n",
              "75%         0.15       0.44       0.35       0.24       0.09       0.08   \n",
              "max        22.53       4.58       7.52       3.52      31.61      33.85   \n",
              "\n",
              "          Amount      Class  \n",
              "count  284807.00  284807.00  \n",
              "mean       88.35       0.00  \n",
              "std       250.12       0.04  \n",
              "min         0.00       0.00  \n",
              "25%         5.60       0.00  \n",
              "50%        22.00       0.00  \n",
              "75%        77.16       0.00  \n",
              "max     25691.16       1.00  \n",
              "\n",
              "[8 rows x 31 columns]"
            ],
            "text/html": [
              "\n",
              "  <div id=\"df-9bc2d540-41fb-49aa-ad73-f4abc3c32ab9\">\n",
              "    <div class=\"colab-df-container\">\n",
              "      <div>\n",
              "<style scoped>\n",
              "    .dataframe tbody tr th:only-of-type {\n",
              "        vertical-align: middle;\n",
              "    }\n",
              "\n",
              "    .dataframe tbody tr th {\n",
              "        vertical-align: top;\n",
              "    }\n",
              "\n",
              "    .dataframe thead th {\n",
              "        text-align: right;\n",
              "    }\n",
              "</style>\n",
              "<table border=\"1\" class=\"dataframe\">\n",
              "  <thead>\n",
              "    <tr style=\"text-align: right;\">\n",
              "      <th></th>\n",
              "      <th>Time</th>\n",
              "      <th>V1</th>\n",
              "      <th>V2</th>\n",
              "      <th>V3</th>\n",
              "      <th>V4</th>\n",
              "      <th>V5</th>\n",
              "      <th>V6</th>\n",
              "      <th>V7</th>\n",
              "      <th>V8</th>\n",
              "      <th>V9</th>\n",
              "      <th>...</th>\n",
              "      <th>V21</th>\n",
              "      <th>V22</th>\n",
              "      <th>V23</th>\n",
              "      <th>V24</th>\n",
              "      <th>V25</th>\n",
              "      <th>V26</th>\n",
              "      <th>V27</th>\n",
              "      <th>V28</th>\n",
              "      <th>Amount</th>\n",
              "      <th>Class</th>\n",
              "    </tr>\n",
              "  </thead>\n",
              "  <tbody>\n",
              "    <tr>\n",
              "      <th>count</th>\n",
              "      <td>284807.00</td>\n",
              "      <td>284807.00</td>\n",
              "      <td>284807.00</td>\n",
              "      <td>284807.00</td>\n",
              "      <td>284807.00</td>\n",
              "      <td>284807.00</td>\n",
              "      <td>284807.00</td>\n",
              "      <td>284807.00</td>\n",
              "      <td>284807.00</td>\n",
              "      <td>284807.00</td>\n",
              "      <td>...</td>\n",
              "      <td>284807.00</td>\n",
              "      <td>284807.00</td>\n",
              "      <td>284807.00</td>\n",
              "      <td>284807.00</td>\n",
              "      <td>284807.00</td>\n",
              "      <td>284807.00</td>\n",
              "      <td>284807.00</td>\n",
              "      <td>284807.00</td>\n",
              "      <td>284807.00</td>\n",
              "      <td>284807.00</td>\n",
              "    </tr>\n",
              "    <tr>\n",
              "      <th>mean</th>\n",
              "      <td>94813.86</td>\n",
              "      <td>0.00</td>\n",
              "      <td>0.00</td>\n",
              "      <td>-0.00</td>\n",
              "      <td>0.00</td>\n",
              "      <td>0.00</td>\n",
              "      <td>0.00</td>\n",
              "      <td>-0.00</td>\n",
              "      <td>0.00</td>\n",
              "      <td>-0.00</td>\n",
              "      <td>...</td>\n",
              "      <td>0.00</td>\n",
              "      <td>-0.00</td>\n",
              "      <td>0.00</td>\n",
              "      <td>0.00</td>\n",
              "      <td>0.00</td>\n",
              "      <td>0.00</td>\n",
              "      <td>-0.00</td>\n",
              "      <td>-0.00</td>\n",
              "      <td>88.35</td>\n",
              "      <td>0.00</td>\n",
              "    </tr>\n",
              "    <tr>\n",
              "      <th>std</th>\n",
              "      <td>47488.15</td>\n",
              "      <td>1.96</td>\n",
              "      <td>1.65</td>\n",
              "      <td>1.52</td>\n",
              "      <td>1.42</td>\n",
              "      <td>1.38</td>\n",
              "      <td>1.33</td>\n",
              "      <td>1.24</td>\n",
              "      <td>1.19</td>\n",
              "      <td>1.10</td>\n",
              "      <td>...</td>\n",
              "      <td>0.73</td>\n",
              "      <td>0.73</td>\n",
              "      <td>0.62</td>\n",
              "      <td>0.61</td>\n",
              "      <td>0.52</td>\n",
              "      <td>0.48</td>\n",
              "      <td>0.40</td>\n",
              "      <td>0.33</td>\n",
              "      <td>250.12</td>\n",
              "      <td>0.04</td>\n",
              "    </tr>\n",
              "    <tr>\n",
              "      <th>min</th>\n",
              "      <td>0.00</td>\n",
              "      <td>-56.41</td>\n",
              "      <td>-72.72</td>\n",
              "      <td>-48.33</td>\n",
              "      <td>-5.68</td>\n",
              "      <td>-113.74</td>\n",
              "      <td>-26.16</td>\n",
              "      <td>-43.56</td>\n",
              "      <td>-73.22</td>\n",
              "      <td>-13.43</td>\n",
              "      <td>...</td>\n",
              "      <td>-34.83</td>\n",
              "      <td>-10.93</td>\n",
              "      <td>-44.81</td>\n",
              "      <td>-2.84</td>\n",
              "      <td>-10.30</td>\n",
              "      <td>-2.60</td>\n",
              "      <td>-22.57</td>\n",
              "      <td>-15.43</td>\n",
              "      <td>0.00</td>\n",
              "      <td>0.00</td>\n",
              "    </tr>\n",
              "    <tr>\n",
              "      <th>25%</th>\n",
              "      <td>54201.50</td>\n",
              "      <td>-0.92</td>\n",
              "      <td>-0.60</td>\n",
              "      <td>-0.89</td>\n",
              "      <td>-0.85</td>\n",
              "      <td>-0.69</td>\n",
              "      <td>-0.77</td>\n",
              "      <td>-0.55</td>\n",
              "      <td>-0.21</td>\n",
              "      <td>-0.64</td>\n",
              "      <td>...</td>\n",
              "      <td>-0.23</td>\n",
              "      <td>-0.54</td>\n",
              "      <td>-0.16</td>\n",
              "      <td>-0.35</td>\n",
              "      <td>-0.32</td>\n",
              "      <td>-0.33</td>\n",
              "      <td>-0.07</td>\n",
              "      <td>-0.05</td>\n",
              "      <td>5.60</td>\n",
              "      <td>0.00</td>\n",
              "    </tr>\n",
              "    <tr>\n",
              "      <th>50%</th>\n",
              "      <td>84692.00</td>\n",
              "      <td>0.02</td>\n",
              "      <td>0.07</td>\n",
              "      <td>0.18</td>\n",
              "      <td>-0.02</td>\n",
              "      <td>-0.05</td>\n",
              "      <td>-0.27</td>\n",
              "      <td>0.04</td>\n",
              "      <td>0.02</td>\n",
              "      <td>-0.05</td>\n",
              "      <td>...</td>\n",
              "      <td>-0.03</td>\n",
              "      <td>0.01</td>\n",
              "      <td>-0.01</td>\n",
              "      <td>0.04</td>\n",
              "      <td>0.02</td>\n",
              "      <td>-0.05</td>\n",
              "      <td>0.00</td>\n",
              "      <td>0.01</td>\n",
              "      <td>22.00</td>\n",
              "      <td>0.00</td>\n",
              "    </tr>\n",
              "    <tr>\n",
              "      <th>75%</th>\n",
              "      <td>139320.50</td>\n",
              "      <td>1.32</td>\n",
              "      <td>0.80</td>\n",
              "      <td>1.03</td>\n",
              "      <td>0.74</td>\n",
              "      <td>0.61</td>\n",
              "      <td>0.40</td>\n",
              "      <td>0.57</td>\n",
              "      <td>0.33</td>\n",
              "      <td>0.60</td>\n",
              "      <td>...</td>\n",
              "      <td>0.19</td>\n",
              "      <td>0.53</td>\n",
              "      <td>0.15</td>\n",
              "      <td>0.44</td>\n",
              "      <td>0.35</td>\n",
              "      <td>0.24</td>\n",
              "      <td>0.09</td>\n",
              "      <td>0.08</td>\n",
              "      <td>77.16</td>\n",
              "      <td>0.00</td>\n",
              "    </tr>\n",
              "    <tr>\n",
              "      <th>max</th>\n",
              "      <td>172792.00</td>\n",
              "      <td>2.45</td>\n",
              "      <td>22.06</td>\n",
              "      <td>9.38</td>\n",
              "      <td>16.88</td>\n",
              "      <td>34.80</td>\n",
              "      <td>73.30</td>\n",
              "      <td>120.59</td>\n",
              "      <td>20.01</td>\n",
              "      <td>15.59</td>\n",
              "      <td>...</td>\n",
              "      <td>27.20</td>\n",
              "      <td>10.50</td>\n",
              "      <td>22.53</td>\n",
              "      <td>4.58</td>\n",
              "      <td>7.52</td>\n",
              "      <td>3.52</td>\n",
              "      <td>31.61</td>\n",
              "      <td>33.85</td>\n",
              "      <td>25691.16</td>\n",
              "      <td>1.00</td>\n",
              "    </tr>\n",
              "  </tbody>\n",
              "</table>\n",
              "<p>8 rows × 31 columns</p>\n",
              "</div>\n",
              "      <button class=\"colab-df-convert\" onclick=\"convertToInteractive('df-9bc2d540-41fb-49aa-ad73-f4abc3c32ab9')\"\n",
              "              title=\"Convert this dataframe to an interactive table.\"\n",
              "              style=\"display:none;\">\n",
              "        \n",
              "  <svg xmlns=\"http://www.w3.org/2000/svg\" height=\"24px\"viewBox=\"0 0 24 24\"\n",
              "       width=\"24px\">\n",
              "    <path d=\"M0 0h24v24H0V0z\" fill=\"none\"/>\n",
              "    <path d=\"M18.56 5.44l.94 2.06.94-2.06 2.06-.94-2.06-.94-.94-2.06-.94 2.06-2.06.94zm-11 1L8.5 8.5l.94-2.06 2.06-.94-2.06-.94L8.5 2.5l-.94 2.06-2.06.94zm10 10l.94 2.06.94-2.06 2.06-.94-2.06-.94-.94-2.06-.94 2.06-2.06.94z\"/><path d=\"M17.41 7.96l-1.37-1.37c-.4-.4-.92-.59-1.43-.59-.52 0-1.04.2-1.43.59L10.3 9.45l-7.72 7.72c-.78.78-.78 2.05 0 2.83L4 21.41c.39.39.9.59 1.41.59.51 0 1.02-.2 1.41-.59l7.78-7.78 2.81-2.81c.8-.78.8-2.07 0-2.86zM5.41 20L4 18.59l7.72-7.72 1.47 1.35L5.41 20z\"/>\n",
              "  </svg>\n",
              "      </button>\n",
              "      \n",
              "  <style>\n",
              "    .colab-df-container {\n",
              "      display:flex;\n",
              "      flex-wrap:wrap;\n",
              "      gap: 12px;\n",
              "    }\n",
              "\n",
              "    .colab-df-convert {\n",
              "      background-color: #E8F0FE;\n",
              "      border: none;\n",
              "      border-radius: 50%;\n",
              "      cursor: pointer;\n",
              "      display: none;\n",
              "      fill: #1967D2;\n",
              "      height: 32px;\n",
              "      padding: 0 0 0 0;\n",
              "      width: 32px;\n",
              "    }\n",
              "\n",
              "    .colab-df-convert:hover {\n",
              "      background-color: #E2EBFA;\n",
              "      box-shadow: 0px 1px 2px rgba(60, 64, 67, 0.3), 0px 1px 3px 1px rgba(60, 64, 67, 0.15);\n",
              "      fill: #174EA6;\n",
              "    }\n",
              "\n",
              "    [theme=dark] .colab-df-convert {\n",
              "      background-color: #3B4455;\n",
              "      fill: #D2E3FC;\n",
              "    }\n",
              "\n",
              "    [theme=dark] .colab-df-convert:hover {\n",
              "      background-color: #434B5C;\n",
              "      box-shadow: 0px 1px 3px 1px rgba(0, 0, 0, 0.15);\n",
              "      filter: drop-shadow(0px 1px 2px rgba(0, 0, 0, 0.3));\n",
              "      fill: #FFFFFF;\n",
              "    }\n",
              "  </style>\n",
              "\n",
              "      <script>\n",
              "        const buttonEl =\n",
              "          document.querySelector('#df-9bc2d540-41fb-49aa-ad73-f4abc3c32ab9 button.colab-df-convert');\n",
              "        buttonEl.style.display =\n",
              "          google.colab.kernel.accessAllowed ? 'block' : 'none';\n",
              "\n",
              "        async function convertToInteractive(key) {\n",
              "          const element = document.querySelector('#df-9bc2d540-41fb-49aa-ad73-f4abc3c32ab9');\n",
              "          const dataTable =\n",
              "            await google.colab.kernel.invokeFunction('convertToInteractive',\n",
              "                                                     [key], {});\n",
              "          if (!dataTable) return;\n",
              "\n",
              "          const docLinkHtml = 'Like what you see? Visit the ' +\n",
              "            '<a target=\"_blank\" href=https://colab.research.google.com/notebooks/data_table.ipynb>data table notebook</a>'\n",
              "            + ' to learn more about interactive tables.';\n",
              "          element.innerHTML = '';\n",
              "          dataTable['output_type'] = 'display_data';\n",
              "          await google.colab.output.renderOutput(dataTable, element);\n",
              "          const docLink = document.createElement('div');\n",
              "          docLink.innerHTML = docLinkHtml;\n",
              "          element.appendChild(docLink);\n",
              "        }\n",
              "      </script>\n",
              "    </div>\n",
              "  </div>\n",
              "  "
            ]
          },
          "metadata": {},
          "execution_count": 36
        }
      ]
    },
    {
      "cell_type": "code",
      "source": [
        "#color of value is depend on the value in the coloumn like seires/heatmap\n",
        "data.describe().round(2).style.background_gradient()"
      ],
      "metadata": {
        "colab": {
          "base_uri": "https://localhost:8080/",
          "height": 320
        },
        "id": "ntLz7_VTzUZ_",
        "outputId": "905c0b20-1d29-4aac-a87d-7087737b91cf"
      },
      "execution_count": 37,
      "outputs": [
        {
          "output_type": "execute_result",
          "data": {
            "text/plain": [
              "<pandas.io.formats.style.Styler at 0x7f1eedcadb90>"
            ],
            "text/html": [
              "<style type=\"text/css\">\n",
              "#T_f61d3_row0_col0, #T_f61d3_row0_col1, #T_f61d3_row0_col2, #T_f61d3_row0_col3, #T_f61d3_row0_col4, #T_f61d3_row0_col5, #T_f61d3_row0_col6, #T_f61d3_row0_col7, #T_f61d3_row0_col8, #T_f61d3_row0_col9, #T_f61d3_row0_col10, #T_f61d3_row0_col11, #T_f61d3_row0_col12, #T_f61d3_row0_col13, #T_f61d3_row0_col14, #T_f61d3_row0_col15, #T_f61d3_row0_col16, #T_f61d3_row0_col17, #T_f61d3_row0_col18, #T_f61d3_row0_col19, #T_f61d3_row0_col20, #T_f61d3_row0_col21, #T_f61d3_row0_col22, #T_f61d3_row0_col23, #T_f61d3_row0_col24, #T_f61d3_row0_col25, #T_f61d3_row0_col26, #T_f61d3_row0_col27, #T_f61d3_row0_col28, #T_f61d3_row0_col29, #T_f61d3_row0_col30 {\n",
              "  background-color: #023858;\n",
              "  color: #f1f1f1;\n",
              "}\n",
              "#T_f61d3_row1_col0 {\n",
              "  background-color: #b4c4df;\n",
              "  color: #000000;\n",
              "}\n",
              "#T_f61d3_row1_col1, #T_f61d3_row1_col2, #T_f61d3_row1_col3, #T_f61d3_row1_col4, #T_f61d3_row1_col5, #T_f61d3_row1_col6, #T_f61d3_row1_col7, #T_f61d3_row1_col8, #T_f61d3_row1_col9, #T_f61d3_row1_col10, #T_f61d3_row1_col11, #T_f61d3_row1_col12, #T_f61d3_row1_col13, #T_f61d3_row1_col14, #T_f61d3_row1_col15, #T_f61d3_row1_col16, #T_f61d3_row1_col17, #T_f61d3_row1_col18, #T_f61d3_row1_col19, #T_f61d3_row1_col20, #T_f61d3_row1_col21, #T_f61d3_row1_col22, #T_f61d3_row1_col23, #T_f61d3_row1_col24, #T_f61d3_row1_col25, #T_f61d3_row1_col26, #T_f61d3_row1_col27, #T_f61d3_row1_col28, #T_f61d3_row1_col29, #T_f61d3_row1_col30, #T_f61d3_row2_col1, #T_f61d3_row2_col2, #T_f61d3_row2_col3, #T_f61d3_row2_col4, #T_f61d3_row2_col5, #T_f61d3_row2_col6, #T_f61d3_row2_col7, #T_f61d3_row2_col8, #T_f61d3_row2_col9, #T_f61d3_row2_col10, #T_f61d3_row2_col11, #T_f61d3_row2_col12, #T_f61d3_row2_col13, #T_f61d3_row2_col14, #T_f61d3_row2_col15, #T_f61d3_row2_col16, #T_f61d3_row2_col17, #T_f61d3_row2_col18, #T_f61d3_row2_col19, #T_f61d3_row2_col20, #T_f61d3_row2_col21, #T_f61d3_row2_col22, #T_f61d3_row2_col23, #T_f61d3_row2_col24, #T_f61d3_row2_col25, #T_f61d3_row2_col26, #T_f61d3_row2_col27, #T_f61d3_row2_col28, #T_f61d3_row2_col29, #T_f61d3_row2_col30, #T_f61d3_row3_col0, #T_f61d3_row3_col1, #T_f61d3_row3_col2, #T_f61d3_row3_col3, #T_f61d3_row3_col4, #T_f61d3_row3_col5, #T_f61d3_row3_col6, #T_f61d3_row3_col7, #T_f61d3_row3_col8, #T_f61d3_row3_col9, #T_f61d3_row3_col10, #T_f61d3_row3_col11, #T_f61d3_row3_col12, #T_f61d3_row3_col13, #T_f61d3_row3_col14, #T_f61d3_row3_col15, #T_f61d3_row3_col16, #T_f61d3_row3_col17, #T_f61d3_row3_col18, #T_f61d3_row3_col19, #T_f61d3_row3_col20, #T_f61d3_row3_col21, #T_f61d3_row3_col22, #T_f61d3_row3_col23, #T_f61d3_row3_col24, #T_f61d3_row3_col25, #T_f61d3_row3_col26, #T_f61d3_row3_col27, #T_f61d3_row3_col28, #T_f61d3_row3_col29, #T_f61d3_row3_col30, #T_f61d3_row4_col1, #T_f61d3_row4_col2, #T_f61d3_row4_col3, #T_f61d3_row4_col4, #T_f61d3_row4_col5, #T_f61d3_row4_col6, #T_f61d3_row4_col7, #T_f61d3_row4_col8, #T_f61d3_row4_col9, #T_f61d3_row4_col10, #T_f61d3_row4_col11, #T_f61d3_row4_col12, #T_f61d3_row4_col13, #T_f61d3_row4_col14, #T_f61d3_row4_col15, #T_f61d3_row4_col16, #T_f61d3_row4_col17, #T_f61d3_row4_col18, #T_f61d3_row4_col19, #T_f61d3_row4_col20, #T_f61d3_row4_col21, #T_f61d3_row4_col22, #T_f61d3_row4_col23, #T_f61d3_row4_col24, #T_f61d3_row4_col25, #T_f61d3_row4_col26, #T_f61d3_row4_col27, #T_f61d3_row4_col28, #T_f61d3_row4_col29, #T_f61d3_row4_col30, #T_f61d3_row5_col1, #T_f61d3_row5_col2, #T_f61d3_row5_col3, #T_f61d3_row5_col4, #T_f61d3_row5_col5, #T_f61d3_row5_col6, #T_f61d3_row5_col7, #T_f61d3_row5_col8, #T_f61d3_row5_col9, #T_f61d3_row5_col10, #T_f61d3_row5_col11, #T_f61d3_row5_col12, #T_f61d3_row5_col13, #T_f61d3_row5_col14, #T_f61d3_row5_col15, #T_f61d3_row5_col16, #T_f61d3_row5_col17, #T_f61d3_row5_col18, #T_f61d3_row5_col19, #T_f61d3_row5_col20, #T_f61d3_row5_col21, #T_f61d3_row5_col22, #T_f61d3_row5_col23, #T_f61d3_row5_col24, #T_f61d3_row5_col25, #T_f61d3_row5_col26, #T_f61d3_row5_col27, #T_f61d3_row5_col28, #T_f61d3_row5_col29, #T_f61d3_row5_col30, #T_f61d3_row6_col1, #T_f61d3_row6_col2, #T_f61d3_row6_col3, #T_f61d3_row6_col4, #T_f61d3_row6_col5, #T_f61d3_row6_col6, #T_f61d3_row6_col7, #T_f61d3_row6_col8, #T_f61d3_row6_col9, #T_f61d3_row6_col10, #T_f61d3_row6_col11, #T_f61d3_row6_col12, #T_f61d3_row6_col13, #T_f61d3_row6_col14, #T_f61d3_row6_col15, #T_f61d3_row6_col16, #T_f61d3_row6_col17, #T_f61d3_row6_col18, #T_f61d3_row6_col19, #T_f61d3_row6_col20, #T_f61d3_row6_col21, #T_f61d3_row6_col22, #T_f61d3_row6_col23, #T_f61d3_row6_col24, #T_f61d3_row6_col25, #T_f61d3_row6_col26, #T_f61d3_row6_col27, #T_f61d3_row6_col28, #T_f61d3_row6_col29, #T_f61d3_row6_col30, #T_f61d3_row7_col1, #T_f61d3_row7_col2, #T_f61d3_row7_col3, #T_f61d3_row7_col4, #T_f61d3_row7_col5, #T_f61d3_row7_col6, #T_f61d3_row7_col7, #T_f61d3_row7_col8, #T_f61d3_row7_col9, #T_f61d3_row7_col10, #T_f61d3_row7_col11, #T_f61d3_row7_col12, #T_f61d3_row7_col13, #T_f61d3_row7_col14, #T_f61d3_row7_col15, #T_f61d3_row7_col16, #T_f61d3_row7_col17, #T_f61d3_row7_col18, #T_f61d3_row7_col19, #T_f61d3_row7_col20, #T_f61d3_row7_col21, #T_f61d3_row7_col22, #T_f61d3_row7_col23, #T_f61d3_row7_col24, #T_f61d3_row7_col25, #T_f61d3_row7_col26, #T_f61d3_row7_col27, #T_f61d3_row7_col28, #T_f61d3_row7_col30 {\n",
              "  background-color: #fff7fb;\n",
              "  color: #000000;\n",
              "}\n",
              "#T_f61d3_row2_col0 {\n",
              "  background-color: #e3e0ee;\n",
              "  color: #000000;\n",
              "}\n",
              "#T_f61d3_row4_col0 {\n",
              "  background-color: #dedcec;\n",
              "  color: #000000;\n",
              "}\n",
              "#T_f61d3_row5_col0 {\n",
              "  background-color: #c0c9e2;\n",
              "  color: #000000;\n",
              "}\n",
              "#T_f61d3_row6_col0 {\n",
              "  background-color: #78abd0;\n",
              "  color: #f1f1f1;\n",
              "}\n",
              "#T_f61d3_row7_col0 {\n",
              "  background-color: #3f93c2;\n",
              "  color: #f1f1f1;\n",
              "}\n",
              "#T_f61d3_row7_col29 {\n",
              "  background-color: #f1ebf5;\n",
              "  color: #000000;\n",
              "}\n",
              "</style>\n",
              "<table id=\"T_f61d3_\" class=\"dataframe\">\n",
              "  <thead>\n",
              "    <tr>\n",
              "      <th class=\"blank level0\" >&nbsp;</th>\n",
              "      <th class=\"col_heading level0 col0\" >Time</th>\n",
              "      <th class=\"col_heading level0 col1\" >V1</th>\n",
              "      <th class=\"col_heading level0 col2\" >V2</th>\n",
              "      <th class=\"col_heading level0 col3\" >V3</th>\n",
              "      <th class=\"col_heading level0 col4\" >V4</th>\n",
              "      <th class=\"col_heading level0 col5\" >V5</th>\n",
              "      <th class=\"col_heading level0 col6\" >V6</th>\n",
              "      <th class=\"col_heading level0 col7\" >V7</th>\n",
              "      <th class=\"col_heading level0 col8\" >V8</th>\n",
              "      <th class=\"col_heading level0 col9\" >V9</th>\n",
              "      <th class=\"col_heading level0 col10\" >V10</th>\n",
              "      <th class=\"col_heading level0 col11\" >V11</th>\n",
              "      <th class=\"col_heading level0 col12\" >V12</th>\n",
              "      <th class=\"col_heading level0 col13\" >V13</th>\n",
              "      <th class=\"col_heading level0 col14\" >V14</th>\n",
              "      <th class=\"col_heading level0 col15\" >V15</th>\n",
              "      <th class=\"col_heading level0 col16\" >V16</th>\n",
              "      <th class=\"col_heading level0 col17\" >V17</th>\n",
              "      <th class=\"col_heading level0 col18\" >V18</th>\n",
              "      <th class=\"col_heading level0 col19\" >V19</th>\n",
              "      <th class=\"col_heading level0 col20\" >V20</th>\n",
              "      <th class=\"col_heading level0 col21\" >V21</th>\n",
              "      <th class=\"col_heading level0 col22\" >V22</th>\n",
              "      <th class=\"col_heading level0 col23\" >V23</th>\n",
              "      <th class=\"col_heading level0 col24\" >V24</th>\n",
              "      <th class=\"col_heading level0 col25\" >V25</th>\n",
              "      <th class=\"col_heading level0 col26\" >V26</th>\n",
              "      <th class=\"col_heading level0 col27\" >V27</th>\n",
              "      <th class=\"col_heading level0 col28\" >V28</th>\n",
              "      <th class=\"col_heading level0 col29\" >Amount</th>\n",
              "      <th class=\"col_heading level0 col30\" >Class</th>\n",
              "    </tr>\n",
              "  </thead>\n",
              "  <tbody>\n",
              "    <tr>\n",
              "      <th id=\"T_f61d3_level0_row0\" class=\"row_heading level0 row0\" >count</th>\n",
              "      <td id=\"T_f61d3_row0_col0\" class=\"data row0 col0\" >284807.000000</td>\n",
              "      <td id=\"T_f61d3_row0_col1\" class=\"data row0 col1\" >284807.000000</td>\n",
              "      <td id=\"T_f61d3_row0_col2\" class=\"data row0 col2\" >284807.000000</td>\n",
              "      <td id=\"T_f61d3_row0_col3\" class=\"data row0 col3\" >284807.000000</td>\n",
              "      <td id=\"T_f61d3_row0_col4\" class=\"data row0 col4\" >284807.000000</td>\n",
              "      <td id=\"T_f61d3_row0_col5\" class=\"data row0 col5\" >284807.000000</td>\n",
              "      <td id=\"T_f61d3_row0_col6\" class=\"data row0 col6\" >284807.000000</td>\n",
              "      <td id=\"T_f61d3_row0_col7\" class=\"data row0 col7\" >284807.000000</td>\n",
              "      <td id=\"T_f61d3_row0_col8\" class=\"data row0 col8\" >284807.000000</td>\n",
              "      <td id=\"T_f61d3_row0_col9\" class=\"data row0 col9\" >284807.000000</td>\n",
              "      <td id=\"T_f61d3_row0_col10\" class=\"data row0 col10\" >284807.000000</td>\n",
              "      <td id=\"T_f61d3_row0_col11\" class=\"data row0 col11\" >284807.000000</td>\n",
              "      <td id=\"T_f61d3_row0_col12\" class=\"data row0 col12\" >284807.000000</td>\n",
              "      <td id=\"T_f61d3_row0_col13\" class=\"data row0 col13\" >284807.000000</td>\n",
              "      <td id=\"T_f61d3_row0_col14\" class=\"data row0 col14\" >284807.000000</td>\n",
              "      <td id=\"T_f61d3_row0_col15\" class=\"data row0 col15\" >284807.000000</td>\n",
              "      <td id=\"T_f61d3_row0_col16\" class=\"data row0 col16\" >284807.000000</td>\n",
              "      <td id=\"T_f61d3_row0_col17\" class=\"data row0 col17\" >284807.000000</td>\n",
              "      <td id=\"T_f61d3_row0_col18\" class=\"data row0 col18\" >284807.000000</td>\n",
              "      <td id=\"T_f61d3_row0_col19\" class=\"data row0 col19\" >284807.000000</td>\n",
              "      <td id=\"T_f61d3_row0_col20\" class=\"data row0 col20\" >284807.000000</td>\n",
              "      <td id=\"T_f61d3_row0_col21\" class=\"data row0 col21\" >284807.000000</td>\n",
              "      <td id=\"T_f61d3_row0_col22\" class=\"data row0 col22\" >284807.000000</td>\n",
              "      <td id=\"T_f61d3_row0_col23\" class=\"data row0 col23\" >284807.000000</td>\n",
              "      <td id=\"T_f61d3_row0_col24\" class=\"data row0 col24\" >284807.000000</td>\n",
              "      <td id=\"T_f61d3_row0_col25\" class=\"data row0 col25\" >284807.000000</td>\n",
              "      <td id=\"T_f61d3_row0_col26\" class=\"data row0 col26\" >284807.000000</td>\n",
              "      <td id=\"T_f61d3_row0_col27\" class=\"data row0 col27\" >284807.000000</td>\n",
              "      <td id=\"T_f61d3_row0_col28\" class=\"data row0 col28\" >284807.000000</td>\n",
              "      <td id=\"T_f61d3_row0_col29\" class=\"data row0 col29\" >284807.000000</td>\n",
              "      <td id=\"T_f61d3_row0_col30\" class=\"data row0 col30\" >284807.000000</td>\n",
              "    </tr>\n",
              "    <tr>\n",
              "      <th id=\"T_f61d3_level0_row1\" class=\"row_heading level0 row1\" >mean</th>\n",
              "      <td id=\"T_f61d3_row1_col0\" class=\"data row1 col0\" >94813.860000</td>\n",
              "      <td id=\"T_f61d3_row1_col1\" class=\"data row1 col1\" >0.000000</td>\n",
              "      <td id=\"T_f61d3_row1_col2\" class=\"data row1 col2\" >0.000000</td>\n",
              "      <td id=\"T_f61d3_row1_col3\" class=\"data row1 col3\" >-0.000000</td>\n",
              "      <td id=\"T_f61d3_row1_col4\" class=\"data row1 col4\" >0.000000</td>\n",
              "      <td id=\"T_f61d3_row1_col5\" class=\"data row1 col5\" >0.000000</td>\n",
              "      <td id=\"T_f61d3_row1_col6\" class=\"data row1 col6\" >0.000000</td>\n",
              "      <td id=\"T_f61d3_row1_col7\" class=\"data row1 col7\" >-0.000000</td>\n",
              "      <td id=\"T_f61d3_row1_col8\" class=\"data row1 col8\" >0.000000</td>\n",
              "      <td id=\"T_f61d3_row1_col9\" class=\"data row1 col9\" >-0.000000</td>\n",
              "      <td id=\"T_f61d3_row1_col10\" class=\"data row1 col10\" >0.000000</td>\n",
              "      <td id=\"T_f61d3_row1_col11\" class=\"data row1 col11\" >0.000000</td>\n",
              "      <td id=\"T_f61d3_row1_col12\" class=\"data row1 col12\" >-0.000000</td>\n",
              "      <td id=\"T_f61d3_row1_col13\" class=\"data row1 col13\" >0.000000</td>\n",
              "      <td id=\"T_f61d3_row1_col14\" class=\"data row1 col14\" >0.000000</td>\n",
              "      <td id=\"T_f61d3_row1_col15\" class=\"data row1 col15\" >0.000000</td>\n",
              "      <td id=\"T_f61d3_row1_col16\" class=\"data row1 col16\" >0.000000</td>\n",
              "      <td id=\"T_f61d3_row1_col17\" class=\"data row1 col17\" >-0.000000</td>\n",
              "      <td id=\"T_f61d3_row1_col18\" class=\"data row1 col18\" >0.000000</td>\n",
              "      <td id=\"T_f61d3_row1_col19\" class=\"data row1 col19\" >0.000000</td>\n",
              "      <td id=\"T_f61d3_row1_col20\" class=\"data row1 col20\" >0.000000</td>\n",
              "      <td id=\"T_f61d3_row1_col21\" class=\"data row1 col21\" >0.000000</td>\n",
              "      <td id=\"T_f61d3_row1_col22\" class=\"data row1 col22\" >-0.000000</td>\n",
              "      <td id=\"T_f61d3_row1_col23\" class=\"data row1 col23\" >0.000000</td>\n",
              "      <td id=\"T_f61d3_row1_col24\" class=\"data row1 col24\" >0.000000</td>\n",
              "      <td id=\"T_f61d3_row1_col25\" class=\"data row1 col25\" >0.000000</td>\n",
              "      <td id=\"T_f61d3_row1_col26\" class=\"data row1 col26\" >0.000000</td>\n",
              "      <td id=\"T_f61d3_row1_col27\" class=\"data row1 col27\" >-0.000000</td>\n",
              "      <td id=\"T_f61d3_row1_col28\" class=\"data row1 col28\" >-0.000000</td>\n",
              "      <td id=\"T_f61d3_row1_col29\" class=\"data row1 col29\" >88.350000</td>\n",
              "      <td id=\"T_f61d3_row1_col30\" class=\"data row1 col30\" >0.000000</td>\n",
              "    </tr>\n",
              "    <tr>\n",
              "      <th id=\"T_f61d3_level0_row2\" class=\"row_heading level0 row2\" >std</th>\n",
              "      <td id=\"T_f61d3_row2_col0\" class=\"data row2 col0\" >47488.150000</td>\n",
              "      <td id=\"T_f61d3_row2_col1\" class=\"data row2 col1\" >1.960000</td>\n",
              "      <td id=\"T_f61d3_row2_col2\" class=\"data row2 col2\" >1.650000</td>\n",
              "      <td id=\"T_f61d3_row2_col3\" class=\"data row2 col3\" >1.520000</td>\n",
              "      <td id=\"T_f61d3_row2_col4\" class=\"data row2 col4\" >1.420000</td>\n",
              "      <td id=\"T_f61d3_row2_col5\" class=\"data row2 col5\" >1.380000</td>\n",
              "      <td id=\"T_f61d3_row2_col6\" class=\"data row2 col6\" >1.330000</td>\n",
              "      <td id=\"T_f61d3_row2_col7\" class=\"data row2 col7\" >1.240000</td>\n",
              "      <td id=\"T_f61d3_row2_col8\" class=\"data row2 col8\" >1.190000</td>\n",
              "      <td id=\"T_f61d3_row2_col9\" class=\"data row2 col9\" >1.100000</td>\n",
              "      <td id=\"T_f61d3_row2_col10\" class=\"data row2 col10\" >1.090000</td>\n",
              "      <td id=\"T_f61d3_row2_col11\" class=\"data row2 col11\" >1.020000</td>\n",
              "      <td id=\"T_f61d3_row2_col12\" class=\"data row2 col12\" >1.000000</td>\n",
              "      <td id=\"T_f61d3_row2_col13\" class=\"data row2 col13\" >1.000000</td>\n",
              "      <td id=\"T_f61d3_row2_col14\" class=\"data row2 col14\" >0.960000</td>\n",
              "      <td id=\"T_f61d3_row2_col15\" class=\"data row2 col15\" >0.920000</td>\n",
              "      <td id=\"T_f61d3_row2_col16\" class=\"data row2 col16\" >0.880000</td>\n",
              "      <td id=\"T_f61d3_row2_col17\" class=\"data row2 col17\" >0.850000</td>\n",
              "      <td id=\"T_f61d3_row2_col18\" class=\"data row2 col18\" >0.840000</td>\n",
              "      <td id=\"T_f61d3_row2_col19\" class=\"data row2 col19\" >0.810000</td>\n",
              "      <td id=\"T_f61d3_row2_col20\" class=\"data row2 col20\" >0.770000</td>\n",
              "      <td id=\"T_f61d3_row2_col21\" class=\"data row2 col21\" >0.730000</td>\n",
              "      <td id=\"T_f61d3_row2_col22\" class=\"data row2 col22\" >0.730000</td>\n",
              "      <td id=\"T_f61d3_row2_col23\" class=\"data row2 col23\" >0.620000</td>\n",
              "      <td id=\"T_f61d3_row2_col24\" class=\"data row2 col24\" >0.610000</td>\n",
              "      <td id=\"T_f61d3_row2_col25\" class=\"data row2 col25\" >0.520000</td>\n",
              "      <td id=\"T_f61d3_row2_col26\" class=\"data row2 col26\" >0.480000</td>\n",
              "      <td id=\"T_f61d3_row2_col27\" class=\"data row2 col27\" >0.400000</td>\n",
              "      <td id=\"T_f61d3_row2_col28\" class=\"data row2 col28\" >0.330000</td>\n",
              "      <td id=\"T_f61d3_row2_col29\" class=\"data row2 col29\" >250.120000</td>\n",
              "      <td id=\"T_f61d3_row2_col30\" class=\"data row2 col30\" >0.040000</td>\n",
              "    </tr>\n",
              "    <tr>\n",
              "      <th id=\"T_f61d3_level0_row3\" class=\"row_heading level0 row3\" >min</th>\n",
              "      <td id=\"T_f61d3_row3_col0\" class=\"data row3 col0\" >0.000000</td>\n",
              "      <td id=\"T_f61d3_row3_col1\" class=\"data row3 col1\" >-56.410000</td>\n",
              "      <td id=\"T_f61d3_row3_col2\" class=\"data row3 col2\" >-72.720000</td>\n",
              "      <td id=\"T_f61d3_row3_col3\" class=\"data row3 col3\" >-48.330000</td>\n",
              "      <td id=\"T_f61d3_row3_col4\" class=\"data row3 col4\" >-5.680000</td>\n",
              "      <td id=\"T_f61d3_row3_col5\" class=\"data row3 col5\" >-113.740000</td>\n",
              "      <td id=\"T_f61d3_row3_col6\" class=\"data row3 col6\" >-26.160000</td>\n",
              "      <td id=\"T_f61d3_row3_col7\" class=\"data row3 col7\" >-43.560000</td>\n",
              "      <td id=\"T_f61d3_row3_col8\" class=\"data row3 col8\" >-73.220000</td>\n",
              "      <td id=\"T_f61d3_row3_col9\" class=\"data row3 col9\" >-13.430000</td>\n",
              "      <td id=\"T_f61d3_row3_col10\" class=\"data row3 col10\" >-24.590000</td>\n",
              "      <td id=\"T_f61d3_row3_col11\" class=\"data row3 col11\" >-4.800000</td>\n",
              "      <td id=\"T_f61d3_row3_col12\" class=\"data row3 col12\" >-18.680000</td>\n",
              "      <td id=\"T_f61d3_row3_col13\" class=\"data row3 col13\" >-5.790000</td>\n",
              "      <td id=\"T_f61d3_row3_col14\" class=\"data row3 col14\" >-19.210000</td>\n",
              "      <td id=\"T_f61d3_row3_col15\" class=\"data row3 col15\" >-4.500000</td>\n",
              "      <td id=\"T_f61d3_row3_col16\" class=\"data row3 col16\" >-14.130000</td>\n",
              "      <td id=\"T_f61d3_row3_col17\" class=\"data row3 col17\" >-25.160000</td>\n",
              "      <td id=\"T_f61d3_row3_col18\" class=\"data row3 col18\" >-9.500000</td>\n",
              "      <td id=\"T_f61d3_row3_col19\" class=\"data row3 col19\" >-7.210000</td>\n",
              "      <td id=\"T_f61d3_row3_col20\" class=\"data row3 col20\" >-54.500000</td>\n",
              "      <td id=\"T_f61d3_row3_col21\" class=\"data row3 col21\" >-34.830000</td>\n",
              "      <td id=\"T_f61d3_row3_col22\" class=\"data row3 col22\" >-10.930000</td>\n",
              "      <td id=\"T_f61d3_row3_col23\" class=\"data row3 col23\" >-44.810000</td>\n",
              "      <td id=\"T_f61d3_row3_col24\" class=\"data row3 col24\" >-2.840000</td>\n",
              "      <td id=\"T_f61d3_row3_col25\" class=\"data row3 col25\" >-10.300000</td>\n",
              "      <td id=\"T_f61d3_row3_col26\" class=\"data row3 col26\" >-2.600000</td>\n",
              "      <td id=\"T_f61d3_row3_col27\" class=\"data row3 col27\" >-22.570000</td>\n",
              "      <td id=\"T_f61d3_row3_col28\" class=\"data row3 col28\" >-15.430000</td>\n",
              "      <td id=\"T_f61d3_row3_col29\" class=\"data row3 col29\" >0.000000</td>\n",
              "      <td id=\"T_f61d3_row3_col30\" class=\"data row3 col30\" >0.000000</td>\n",
              "    </tr>\n",
              "    <tr>\n",
              "      <th id=\"T_f61d3_level0_row4\" class=\"row_heading level0 row4\" >25%</th>\n",
              "      <td id=\"T_f61d3_row4_col0\" class=\"data row4 col0\" >54201.500000</td>\n",
              "      <td id=\"T_f61d3_row4_col1\" class=\"data row4 col1\" >-0.920000</td>\n",
              "      <td id=\"T_f61d3_row4_col2\" class=\"data row4 col2\" >-0.600000</td>\n",
              "      <td id=\"T_f61d3_row4_col3\" class=\"data row4 col3\" >-0.890000</td>\n",
              "      <td id=\"T_f61d3_row4_col4\" class=\"data row4 col4\" >-0.850000</td>\n",
              "      <td id=\"T_f61d3_row4_col5\" class=\"data row4 col5\" >-0.690000</td>\n",
              "      <td id=\"T_f61d3_row4_col6\" class=\"data row4 col6\" >-0.770000</td>\n",
              "      <td id=\"T_f61d3_row4_col7\" class=\"data row4 col7\" >-0.550000</td>\n",
              "      <td id=\"T_f61d3_row4_col8\" class=\"data row4 col8\" >-0.210000</td>\n",
              "      <td id=\"T_f61d3_row4_col9\" class=\"data row4 col9\" >-0.640000</td>\n",
              "      <td id=\"T_f61d3_row4_col10\" class=\"data row4 col10\" >-0.540000</td>\n",
              "      <td id=\"T_f61d3_row4_col11\" class=\"data row4 col11\" >-0.760000</td>\n",
              "      <td id=\"T_f61d3_row4_col12\" class=\"data row4 col12\" >-0.410000</td>\n",
              "      <td id=\"T_f61d3_row4_col13\" class=\"data row4 col13\" >-0.650000</td>\n",
              "      <td id=\"T_f61d3_row4_col14\" class=\"data row4 col14\" >-0.430000</td>\n",
              "      <td id=\"T_f61d3_row4_col15\" class=\"data row4 col15\" >-0.580000</td>\n",
              "      <td id=\"T_f61d3_row4_col16\" class=\"data row4 col16\" >-0.470000</td>\n",
              "      <td id=\"T_f61d3_row4_col17\" class=\"data row4 col17\" >-0.480000</td>\n",
              "      <td id=\"T_f61d3_row4_col18\" class=\"data row4 col18\" >-0.500000</td>\n",
              "      <td id=\"T_f61d3_row4_col19\" class=\"data row4 col19\" >-0.460000</td>\n",
              "      <td id=\"T_f61d3_row4_col20\" class=\"data row4 col20\" >-0.210000</td>\n",
              "      <td id=\"T_f61d3_row4_col21\" class=\"data row4 col21\" >-0.230000</td>\n",
              "      <td id=\"T_f61d3_row4_col22\" class=\"data row4 col22\" >-0.540000</td>\n",
              "      <td id=\"T_f61d3_row4_col23\" class=\"data row4 col23\" >-0.160000</td>\n",
              "      <td id=\"T_f61d3_row4_col24\" class=\"data row4 col24\" >-0.350000</td>\n",
              "      <td id=\"T_f61d3_row4_col25\" class=\"data row4 col25\" >-0.320000</td>\n",
              "      <td id=\"T_f61d3_row4_col26\" class=\"data row4 col26\" >-0.330000</td>\n",
              "      <td id=\"T_f61d3_row4_col27\" class=\"data row4 col27\" >-0.070000</td>\n",
              "      <td id=\"T_f61d3_row4_col28\" class=\"data row4 col28\" >-0.050000</td>\n",
              "      <td id=\"T_f61d3_row4_col29\" class=\"data row4 col29\" >5.600000</td>\n",
              "      <td id=\"T_f61d3_row4_col30\" class=\"data row4 col30\" >0.000000</td>\n",
              "    </tr>\n",
              "    <tr>\n",
              "      <th id=\"T_f61d3_level0_row5\" class=\"row_heading level0 row5\" >50%</th>\n",
              "      <td id=\"T_f61d3_row5_col0\" class=\"data row5 col0\" >84692.000000</td>\n",
              "      <td id=\"T_f61d3_row5_col1\" class=\"data row5 col1\" >0.020000</td>\n",
              "      <td id=\"T_f61d3_row5_col2\" class=\"data row5 col2\" >0.070000</td>\n",
              "      <td id=\"T_f61d3_row5_col3\" class=\"data row5 col3\" >0.180000</td>\n",
              "      <td id=\"T_f61d3_row5_col4\" class=\"data row5 col4\" >-0.020000</td>\n",
              "      <td id=\"T_f61d3_row5_col5\" class=\"data row5 col5\" >-0.050000</td>\n",
              "      <td id=\"T_f61d3_row5_col6\" class=\"data row5 col6\" >-0.270000</td>\n",
              "      <td id=\"T_f61d3_row5_col7\" class=\"data row5 col7\" >0.040000</td>\n",
              "      <td id=\"T_f61d3_row5_col8\" class=\"data row5 col8\" >0.020000</td>\n",
              "      <td id=\"T_f61d3_row5_col9\" class=\"data row5 col9\" >-0.050000</td>\n",
              "      <td id=\"T_f61d3_row5_col10\" class=\"data row5 col10\" >-0.090000</td>\n",
              "      <td id=\"T_f61d3_row5_col11\" class=\"data row5 col11\" >-0.030000</td>\n",
              "      <td id=\"T_f61d3_row5_col12\" class=\"data row5 col12\" >0.140000</td>\n",
              "      <td id=\"T_f61d3_row5_col13\" class=\"data row5 col13\" >-0.010000</td>\n",
              "      <td id=\"T_f61d3_row5_col14\" class=\"data row5 col14\" >0.050000</td>\n",
              "      <td id=\"T_f61d3_row5_col15\" class=\"data row5 col15\" >0.050000</td>\n",
              "      <td id=\"T_f61d3_row5_col16\" class=\"data row5 col16\" >0.070000</td>\n",
              "      <td id=\"T_f61d3_row5_col17\" class=\"data row5 col17\" >-0.070000</td>\n",
              "      <td id=\"T_f61d3_row5_col18\" class=\"data row5 col18\" >-0.000000</td>\n",
              "      <td id=\"T_f61d3_row5_col19\" class=\"data row5 col19\" >0.000000</td>\n",
              "      <td id=\"T_f61d3_row5_col20\" class=\"data row5 col20\" >-0.060000</td>\n",
              "      <td id=\"T_f61d3_row5_col21\" class=\"data row5 col21\" >-0.030000</td>\n",
              "      <td id=\"T_f61d3_row5_col22\" class=\"data row5 col22\" >0.010000</td>\n",
              "      <td id=\"T_f61d3_row5_col23\" class=\"data row5 col23\" >-0.010000</td>\n",
              "      <td id=\"T_f61d3_row5_col24\" class=\"data row5 col24\" >0.040000</td>\n",
              "      <td id=\"T_f61d3_row5_col25\" class=\"data row5 col25\" >0.020000</td>\n",
              "      <td id=\"T_f61d3_row5_col26\" class=\"data row5 col26\" >-0.050000</td>\n",
              "      <td id=\"T_f61d3_row5_col27\" class=\"data row5 col27\" >0.000000</td>\n",
              "      <td id=\"T_f61d3_row5_col28\" class=\"data row5 col28\" >0.010000</td>\n",
              "      <td id=\"T_f61d3_row5_col29\" class=\"data row5 col29\" >22.000000</td>\n",
              "      <td id=\"T_f61d3_row5_col30\" class=\"data row5 col30\" >0.000000</td>\n",
              "    </tr>\n",
              "    <tr>\n",
              "      <th id=\"T_f61d3_level0_row6\" class=\"row_heading level0 row6\" >75%</th>\n",
              "      <td id=\"T_f61d3_row6_col0\" class=\"data row6 col0\" >139320.500000</td>\n",
              "      <td id=\"T_f61d3_row6_col1\" class=\"data row6 col1\" >1.320000</td>\n",
              "      <td id=\"T_f61d3_row6_col2\" class=\"data row6 col2\" >0.800000</td>\n",
              "      <td id=\"T_f61d3_row6_col3\" class=\"data row6 col3\" >1.030000</td>\n",
              "      <td id=\"T_f61d3_row6_col4\" class=\"data row6 col4\" >0.740000</td>\n",
              "      <td id=\"T_f61d3_row6_col5\" class=\"data row6 col5\" >0.610000</td>\n",
              "      <td id=\"T_f61d3_row6_col6\" class=\"data row6 col6\" >0.400000</td>\n",
              "      <td id=\"T_f61d3_row6_col7\" class=\"data row6 col7\" >0.570000</td>\n",
              "      <td id=\"T_f61d3_row6_col8\" class=\"data row6 col8\" >0.330000</td>\n",
              "      <td id=\"T_f61d3_row6_col9\" class=\"data row6 col9\" >0.600000</td>\n",
              "      <td id=\"T_f61d3_row6_col10\" class=\"data row6 col10\" >0.450000</td>\n",
              "      <td id=\"T_f61d3_row6_col11\" class=\"data row6 col11\" >0.740000</td>\n",
              "      <td id=\"T_f61d3_row6_col12\" class=\"data row6 col12\" >0.620000</td>\n",
              "      <td id=\"T_f61d3_row6_col13\" class=\"data row6 col13\" >0.660000</td>\n",
              "      <td id=\"T_f61d3_row6_col14\" class=\"data row6 col14\" >0.490000</td>\n",
              "      <td id=\"T_f61d3_row6_col15\" class=\"data row6 col15\" >0.650000</td>\n",
              "      <td id=\"T_f61d3_row6_col16\" class=\"data row6 col16\" >0.520000</td>\n",
              "      <td id=\"T_f61d3_row6_col17\" class=\"data row6 col17\" >0.400000</td>\n",
              "      <td id=\"T_f61d3_row6_col18\" class=\"data row6 col18\" >0.500000</td>\n",
              "      <td id=\"T_f61d3_row6_col19\" class=\"data row6 col19\" >0.460000</td>\n",
              "      <td id=\"T_f61d3_row6_col20\" class=\"data row6 col20\" >0.130000</td>\n",
              "      <td id=\"T_f61d3_row6_col21\" class=\"data row6 col21\" >0.190000</td>\n",
              "      <td id=\"T_f61d3_row6_col22\" class=\"data row6 col22\" >0.530000</td>\n",
              "      <td id=\"T_f61d3_row6_col23\" class=\"data row6 col23\" >0.150000</td>\n",
              "      <td id=\"T_f61d3_row6_col24\" class=\"data row6 col24\" >0.440000</td>\n",
              "      <td id=\"T_f61d3_row6_col25\" class=\"data row6 col25\" >0.350000</td>\n",
              "      <td id=\"T_f61d3_row6_col26\" class=\"data row6 col26\" >0.240000</td>\n",
              "      <td id=\"T_f61d3_row6_col27\" class=\"data row6 col27\" >0.090000</td>\n",
              "      <td id=\"T_f61d3_row6_col28\" class=\"data row6 col28\" >0.080000</td>\n",
              "      <td id=\"T_f61d3_row6_col29\" class=\"data row6 col29\" >77.160000</td>\n",
              "      <td id=\"T_f61d3_row6_col30\" class=\"data row6 col30\" >0.000000</td>\n",
              "    </tr>\n",
              "    <tr>\n",
              "      <th id=\"T_f61d3_level0_row7\" class=\"row_heading level0 row7\" >max</th>\n",
              "      <td id=\"T_f61d3_row7_col0\" class=\"data row7 col0\" >172792.000000</td>\n",
              "      <td id=\"T_f61d3_row7_col1\" class=\"data row7 col1\" >2.450000</td>\n",
              "      <td id=\"T_f61d3_row7_col2\" class=\"data row7 col2\" >22.060000</td>\n",
              "      <td id=\"T_f61d3_row7_col3\" class=\"data row7 col3\" >9.380000</td>\n",
              "      <td id=\"T_f61d3_row7_col4\" class=\"data row7 col4\" >16.880000</td>\n",
              "      <td id=\"T_f61d3_row7_col5\" class=\"data row7 col5\" >34.800000</td>\n",
              "      <td id=\"T_f61d3_row7_col6\" class=\"data row7 col6\" >73.300000</td>\n",
              "      <td id=\"T_f61d3_row7_col7\" class=\"data row7 col7\" >120.590000</td>\n",
              "      <td id=\"T_f61d3_row7_col8\" class=\"data row7 col8\" >20.010000</td>\n",
              "      <td id=\"T_f61d3_row7_col9\" class=\"data row7 col9\" >15.590000</td>\n",
              "      <td id=\"T_f61d3_row7_col10\" class=\"data row7 col10\" >23.750000</td>\n",
              "      <td id=\"T_f61d3_row7_col11\" class=\"data row7 col11\" >12.020000</td>\n",
              "      <td id=\"T_f61d3_row7_col12\" class=\"data row7 col12\" >7.850000</td>\n",
              "      <td id=\"T_f61d3_row7_col13\" class=\"data row7 col13\" >7.130000</td>\n",
              "      <td id=\"T_f61d3_row7_col14\" class=\"data row7 col14\" >10.530000</td>\n",
              "      <td id=\"T_f61d3_row7_col15\" class=\"data row7 col15\" >8.880000</td>\n",
              "      <td id=\"T_f61d3_row7_col16\" class=\"data row7 col16\" >17.320000</td>\n",
              "      <td id=\"T_f61d3_row7_col17\" class=\"data row7 col17\" >9.250000</td>\n",
              "      <td id=\"T_f61d3_row7_col18\" class=\"data row7 col18\" >5.040000</td>\n",
              "      <td id=\"T_f61d3_row7_col19\" class=\"data row7 col19\" >5.590000</td>\n",
              "      <td id=\"T_f61d3_row7_col20\" class=\"data row7 col20\" >39.420000</td>\n",
              "      <td id=\"T_f61d3_row7_col21\" class=\"data row7 col21\" >27.200000</td>\n",
              "      <td id=\"T_f61d3_row7_col22\" class=\"data row7 col22\" >10.500000</td>\n",
              "      <td id=\"T_f61d3_row7_col23\" class=\"data row7 col23\" >22.530000</td>\n",
              "      <td id=\"T_f61d3_row7_col24\" class=\"data row7 col24\" >4.580000</td>\n",
              "      <td id=\"T_f61d3_row7_col25\" class=\"data row7 col25\" >7.520000</td>\n",
              "      <td id=\"T_f61d3_row7_col26\" class=\"data row7 col26\" >3.520000</td>\n",
              "      <td id=\"T_f61d3_row7_col27\" class=\"data row7 col27\" >31.610000</td>\n",
              "      <td id=\"T_f61d3_row7_col28\" class=\"data row7 col28\" >33.850000</td>\n",
              "      <td id=\"T_f61d3_row7_col29\" class=\"data row7 col29\" >25691.160000</td>\n",
              "      <td id=\"T_f61d3_row7_col30\" class=\"data row7 col30\" >1.000000</td>\n",
              "    </tr>\n",
              "  </tbody>\n",
              "</table>\n"
            ]
          },
          "metadata": {},
          "execution_count": 37
        }
      ]
    },
    {
      "cell_type": "code",
      "source": [
        "#to see datatype of column\n",
        "#to check for categorical column \n",
        "#if it is then we need to perform OneHotEncoding Method to convert \n",
        "data.dtypes"
      ],
      "metadata": {
        "colab": {
          "base_uri": "https://localhost:8080/"
        },
        "id": "mYPcY0h7zUcV",
        "outputId": "6ca411b8-d3da-4f48-d8fd-86f4ac67eaf0"
      },
      "execution_count": 38,
      "outputs": [
        {
          "output_type": "execute_result",
          "data": {
            "text/plain": [
              "Time      float64\n",
              "V1        float64\n",
              "V2        float64\n",
              "V3        float64\n",
              "V4        float64\n",
              "V5        float64\n",
              "V6        float64\n",
              "V7        float64\n",
              "V8        float64\n",
              "V9        float64\n",
              "V10       float64\n",
              "V11       float64\n",
              "V12       float64\n",
              "V13       float64\n",
              "V14       float64\n",
              "V15       float64\n",
              "V16       float64\n",
              "V17       float64\n",
              "V18       float64\n",
              "V19       float64\n",
              "V20       float64\n",
              "V21       float64\n",
              "V22       float64\n",
              "V23       float64\n",
              "V24       float64\n",
              "V25       float64\n",
              "V26       float64\n",
              "V27       float64\n",
              "V28       float64\n",
              "Amount    float64\n",
              "Class       int64\n",
              "dtype: object"
            ]
          },
          "metadata": {},
          "execution_count": 38
        }
      ]
    },
    {
      "cell_type": "code",
      "source": [
        "#to check whethere their is duplicate values in a data\n",
        "#which can affect the data\n",
        "data.duplicated().sum()"
      ],
      "metadata": {
        "colab": {
          "base_uri": "https://localhost:8080/"
        },
        "id": "c1rFvmZAzUix",
        "outputId": "c915d532-3cee-4f4e-e3bf-79f57ed54d01"
      },
      "execution_count": 39,
      "outputs": [
        {
          "output_type": "execute_result",
          "data": {
            "text/plain": [
              "1081"
            ]
          },
          "metadata": {},
          "execution_count": 39
        }
      ]
    },
    {
      "cell_type": "code",
      "source": [
        "#to remove duplicate values\n",
        "#why we are writing inplace = True so it can process and remove duplicate from orginal data\n",
        "# if u dont do that then it will show just for view not delete in orginaldata\n",
        "data.drop_duplicates(inplace = True)"
      ],
      "metadata": {
        "id": "_xGLCJrTzUkj"
      },
      "execution_count": 40,
      "outputs": []
    },
    {
      "cell_type": "code",
      "source": [
        "data.shape"
      ],
      "metadata": {
        "colab": {
          "base_uri": "https://localhost:8080/"
        },
        "id": "fDC_DmgDzUme",
        "outputId": "dc4a4a97-c773-44f0-d129-fdfc6b40b3e0"
      },
      "execution_count": 42,
      "outputs": [
        {
          "output_type": "execute_result",
          "data": {
            "text/plain": [
              "(283726, 31)"
            ]
          },
          "metadata": {},
          "execution_count": 42
        }
      ]
    },
    {
      "cell_type": "code",
      "source": [
        "#to check gain is their any dupicate in data\n",
        "data.duplicated().sum()"
      ],
      "metadata": {
        "colab": {
          "base_uri": "https://localhost:8080/"
        },
        "id": "rN03xpSDzUpd",
        "outputId": "9cbcd369-5136-47a1-bafc-31af6004095e"
      },
      "execution_count": 43,
      "outputs": [
        {
          "output_type": "execute_result",
          "data": {
            "text/plain": [
              "0"
            ]
          },
          "metadata": {},
          "execution_count": 43
        }
      ]
    },
    {
      "cell_type": "markdown",
      "source": [
        "#Train and Test Data Creation\n",
        "- first we need to divide our data into x and y \n",
        "- then we need to split our data to creata a train and test model"
      ],
      "metadata": {
        "id": "Dp3N9tzW2RZO"
      }
    },
    {
      "cell_type": "code",
      "source": [
        "x = data.iloc[:,0:-1]\n",
        "y = data.loc[:,'Class'] #data.iloc[:,-1]"
      ],
      "metadata": {
        "id": "FZ7LaKqSzUrc"
      },
      "execution_count": 44,
      "outputs": []
    },
    {
      "cell_type": "code",
      "source": [
        "print(x.shape)\n",
        "print(y.shape)"
      ],
      "metadata": {
        "colab": {
          "base_uri": "https://localhost:8080/"
        },
        "id": "C0qnkFfzzUtV",
        "outputId": "5de3858c-7070-44ed-d76f-edd0d593f428"
      },
      "execution_count": 46,
      "outputs": [
        {
          "output_type": "stream",
          "name": "stdout",
          "text": [
            "(283726, 30)\n",
            "(283726,)\n"
          ]
        }
      ]
    },
    {
      "cell_type": "code",
      "source": [
        "x.head()"
      ],
      "metadata": {
        "colab": {
          "base_uri": "https://localhost:8080/",
          "height": 300
        },
        "id": "lnvvc84jzUw_",
        "outputId": "407e850c-67e3-4c3c-db98-f8886daf59f0"
      },
      "execution_count": 47,
      "outputs": [
        {
          "output_type": "execute_result",
          "data": {
            "text/plain": [
              "   Time        V1        V2        V3        V4        V5        V6        V7  \\\n",
              "0   0.0 -1.359807 -0.072781  2.536347  1.378155 -0.338321  0.462388  0.239599   \n",
              "1   0.0  1.191857  0.266151  0.166480  0.448154  0.060018 -0.082361 -0.078803   \n",
              "2   1.0 -1.358354 -1.340163  1.773209  0.379780 -0.503198  1.800499  0.791461   \n",
              "3   1.0 -0.966272 -0.185226  1.792993 -0.863291 -0.010309  1.247203  0.237609   \n",
              "4   2.0 -1.158233  0.877737  1.548718  0.403034 -0.407193  0.095921  0.592941   \n",
              "\n",
              "         V8        V9  ...       V20       V21       V22       V23       V24  \\\n",
              "0  0.098698  0.363787  ...  0.251412 -0.018307  0.277838 -0.110474  0.066928   \n",
              "1  0.085102 -0.255425  ... -0.069083 -0.225775 -0.638672  0.101288 -0.339846   \n",
              "2  0.247676 -1.514654  ...  0.524980  0.247998  0.771679  0.909412 -0.689281   \n",
              "3  0.377436 -1.387024  ... -0.208038 -0.108300  0.005274 -0.190321 -1.175575   \n",
              "4 -0.270533  0.817739  ...  0.408542 -0.009431  0.798278 -0.137458  0.141267   \n",
              "\n",
              "        V25       V26       V27       V28  Amount  \n",
              "0  0.128539 -0.189115  0.133558 -0.021053  149.62  \n",
              "1  0.167170  0.125895 -0.008983  0.014724    2.69  \n",
              "2 -0.327642 -0.139097 -0.055353 -0.059752  378.66  \n",
              "3  0.647376 -0.221929  0.062723  0.061458  123.50  \n",
              "4 -0.206010  0.502292  0.219422  0.215153   69.99  \n",
              "\n",
              "[5 rows x 30 columns]"
            ],
            "text/html": [
              "\n",
              "  <div id=\"df-448327d5-3958-414c-96b1-b1d391dd1f43\">\n",
              "    <div class=\"colab-df-container\">\n",
              "      <div>\n",
              "<style scoped>\n",
              "    .dataframe tbody tr th:only-of-type {\n",
              "        vertical-align: middle;\n",
              "    }\n",
              "\n",
              "    .dataframe tbody tr th {\n",
              "        vertical-align: top;\n",
              "    }\n",
              "\n",
              "    .dataframe thead th {\n",
              "        text-align: right;\n",
              "    }\n",
              "</style>\n",
              "<table border=\"1\" class=\"dataframe\">\n",
              "  <thead>\n",
              "    <tr style=\"text-align: right;\">\n",
              "      <th></th>\n",
              "      <th>Time</th>\n",
              "      <th>V1</th>\n",
              "      <th>V2</th>\n",
              "      <th>V3</th>\n",
              "      <th>V4</th>\n",
              "      <th>V5</th>\n",
              "      <th>V6</th>\n",
              "      <th>V7</th>\n",
              "      <th>V8</th>\n",
              "      <th>V9</th>\n",
              "      <th>...</th>\n",
              "      <th>V20</th>\n",
              "      <th>V21</th>\n",
              "      <th>V22</th>\n",
              "      <th>V23</th>\n",
              "      <th>V24</th>\n",
              "      <th>V25</th>\n",
              "      <th>V26</th>\n",
              "      <th>V27</th>\n",
              "      <th>V28</th>\n",
              "      <th>Amount</th>\n",
              "    </tr>\n",
              "  </thead>\n",
              "  <tbody>\n",
              "    <tr>\n",
              "      <th>0</th>\n",
              "      <td>0.0</td>\n",
              "      <td>-1.359807</td>\n",
              "      <td>-0.072781</td>\n",
              "      <td>2.536347</td>\n",
              "      <td>1.378155</td>\n",
              "      <td>-0.338321</td>\n",
              "      <td>0.462388</td>\n",
              "      <td>0.239599</td>\n",
              "      <td>0.098698</td>\n",
              "      <td>0.363787</td>\n",
              "      <td>...</td>\n",
              "      <td>0.251412</td>\n",
              "      <td>-0.018307</td>\n",
              "      <td>0.277838</td>\n",
              "      <td>-0.110474</td>\n",
              "      <td>0.066928</td>\n",
              "      <td>0.128539</td>\n",
              "      <td>-0.189115</td>\n",
              "      <td>0.133558</td>\n",
              "      <td>-0.021053</td>\n",
              "      <td>149.62</td>\n",
              "    </tr>\n",
              "    <tr>\n",
              "      <th>1</th>\n",
              "      <td>0.0</td>\n",
              "      <td>1.191857</td>\n",
              "      <td>0.266151</td>\n",
              "      <td>0.166480</td>\n",
              "      <td>0.448154</td>\n",
              "      <td>0.060018</td>\n",
              "      <td>-0.082361</td>\n",
              "      <td>-0.078803</td>\n",
              "      <td>0.085102</td>\n",
              "      <td>-0.255425</td>\n",
              "      <td>...</td>\n",
              "      <td>-0.069083</td>\n",
              "      <td>-0.225775</td>\n",
              "      <td>-0.638672</td>\n",
              "      <td>0.101288</td>\n",
              "      <td>-0.339846</td>\n",
              "      <td>0.167170</td>\n",
              "      <td>0.125895</td>\n",
              "      <td>-0.008983</td>\n",
              "      <td>0.014724</td>\n",
              "      <td>2.69</td>\n",
              "    </tr>\n",
              "    <tr>\n",
              "      <th>2</th>\n",
              "      <td>1.0</td>\n",
              "      <td>-1.358354</td>\n",
              "      <td>-1.340163</td>\n",
              "      <td>1.773209</td>\n",
              "      <td>0.379780</td>\n",
              "      <td>-0.503198</td>\n",
              "      <td>1.800499</td>\n",
              "      <td>0.791461</td>\n",
              "      <td>0.247676</td>\n",
              "      <td>-1.514654</td>\n",
              "      <td>...</td>\n",
              "      <td>0.524980</td>\n",
              "      <td>0.247998</td>\n",
              "      <td>0.771679</td>\n",
              "      <td>0.909412</td>\n",
              "      <td>-0.689281</td>\n",
              "      <td>-0.327642</td>\n",
              "      <td>-0.139097</td>\n",
              "      <td>-0.055353</td>\n",
              "      <td>-0.059752</td>\n",
              "      <td>378.66</td>\n",
              "    </tr>\n",
              "    <tr>\n",
              "      <th>3</th>\n",
              "      <td>1.0</td>\n",
              "      <td>-0.966272</td>\n",
              "      <td>-0.185226</td>\n",
              "      <td>1.792993</td>\n",
              "      <td>-0.863291</td>\n",
              "      <td>-0.010309</td>\n",
              "      <td>1.247203</td>\n",
              "      <td>0.237609</td>\n",
              "      <td>0.377436</td>\n",
              "      <td>-1.387024</td>\n",
              "      <td>...</td>\n",
              "      <td>-0.208038</td>\n",
              "      <td>-0.108300</td>\n",
              "      <td>0.005274</td>\n",
              "      <td>-0.190321</td>\n",
              "      <td>-1.175575</td>\n",
              "      <td>0.647376</td>\n",
              "      <td>-0.221929</td>\n",
              "      <td>0.062723</td>\n",
              "      <td>0.061458</td>\n",
              "      <td>123.50</td>\n",
              "    </tr>\n",
              "    <tr>\n",
              "      <th>4</th>\n",
              "      <td>2.0</td>\n",
              "      <td>-1.158233</td>\n",
              "      <td>0.877737</td>\n",
              "      <td>1.548718</td>\n",
              "      <td>0.403034</td>\n",
              "      <td>-0.407193</td>\n",
              "      <td>0.095921</td>\n",
              "      <td>0.592941</td>\n",
              "      <td>-0.270533</td>\n",
              "      <td>0.817739</td>\n",
              "      <td>...</td>\n",
              "      <td>0.408542</td>\n",
              "      <td>-0.009431</td>\n",
              "      <td>0.798278</td>\n",
              "      <td>-0.137458</td>\n",
              "      <td>0.141267</td>\n",
              "      <td>-0.206010</td>\n",
              "      <td>0.502292</td>\n",
              "      <td>0.219422</td>\n",
              "      <td>0.215153</td>\n",
              "      <td>69.99</td>\n",
              "    </tr>\n",
              "  </tbody>\n",
              "</table>\n",
              "<p>5 rows × 30 columns</p>\n",
              "</div>\n",
              "      <button class=\"colab-df-convert\" onclick=\"convertToInteractive('df-448327d5-3958-414c-96b1-b1d391dd1f43')\"\n",
              "              title=\"Convert this dataframe to an interactive table.\"\n",
              "              style=\"display:none;\">\n",
              "        \n",
              "  <svg xmlns=\"http://www.w3.org/2000/svg\" height=\"24px\"viewBox=\"0 0 24 24\"\n",
              "       width=\"24px\">\n",
              "    <path d=\"M0 0h24v24H0V0z\" fill=\"none\"/>\n",
              "    <path d=\"M18.56 5.44l.94 2.06.94-2.06 2.06-.94-2.06-.94-.94-2.06-.94 2.06-2.06.94zm-11 1L8.5 8.5l.94-2.06 2.06-.94-2.06-.94L8.5 2.5l-.94 2.06-2.06.94zm10 10l.94 2.06.94-2.06 2.06-.94-2.06-.94-.94-2.06-.94 2.06-2.06.94z\"/><path d=\"M17.41 7.96l-1.37-1.37c-.4-.4-.92-.59-1.43-.59-.52 0-1.04.2-1.43.59L10.3 9.45l-7.72 7.72c-.78.78-.78 2.05 0 2.83L4 21.41c.39.39.9.59 1.41.59.51 0 1.02-.2 1.41-.59l7.78-7.78 2.81-2.81c.8-.78.8-2.07 0-2.86zM5.41 20L4 18.59l7.72-7.72 1.47 1.35L5.41 20z\"/>\n",
              "  </svg>\n",
              "      </button>\n",
              "      \n",
              "  <style>\n",
              "    .colab-df-container {\n",
              "      display:flex;\n",
              "      flex-wrap:wrap;\n",
              "      gap: 12px;\n",
              "    }\n",
              "\n",
              "    .colab-df-convert {\n",
              "      background-color: #E8F0FE;\n",
              "      border: none;\n",
              "      border-radius: 50%;\n",
              "      cursor: pointer;\n",
              "      display: none;\n",
              "      fill: #1967D2;\n",
              "      height: 32px;\n",
              "      padding: 0 0 0 0;\n",
              "      width: 32px;\n",
              "    }\n",
              "\n",
              "    .colab-df-convert:hover {\n",
              "      background-color: #E2EBFA;\n",
              "      box-shadow: 0px 1px 2px rgba(60, 64, 67, 0.3), 0px 1px 3px 1px rgba(60, 64, 67, 0.15);\n",
              "      fill: #174EA6;\n",
              "    }\n",
              "\n",
              "    [theme=dark] .colab-df-convert {\n",
              "      background-color: #3B4455;\n",
              "      fill: #D2E3FC;\n",
              "    }\n",
              "\n",
              "    [theme=dark] .colab-df-convert:hover {\n",
              "      background-color: #434B5C;\n",
              "      box-shadow: 0px 1px 3px 1px rgba(0, 0, 0, 0.15);\n",
              "      filter: drop-shadow(0px 1px 2px rgba(0, 0, 0, 0.3));\n",
              "      fill: #FFFFFF;\n",
              "    }\n",
              "  </style>\n",
              "\n",
              "      <script>\n",
              "        const buttonEl =\n",
              "          document.querySelector('#df-448327d5-3958-414c-96b1-b1d391dd1f43 button.colab-df-convert');\n",
              "        buttonEl.style.display =\n",
              "          google.colab.kernel.accessAllowed ? 'block' : 'none';\n",
              "\n",
              "        async function convertToInteractive(key) {\n",
              "          const element = document.querySelector('#df-448327d5-3958-414c-96b1-b1d391dd1f43');\n",
              "          const dataTable =\n",
              "            await google.colab.kernel.invokeFunction('convertToInteractive',\n",
              "                                                     [key], {});\n",
              "          if (!dataTable) return;\n",
              "\n",
              "          const docLinkHtml = 'Like what you see? Visit the ' +\n",
              "            '<a target=\"_blank\" href=https://colab.research.google.com/notebooks/data_table.ipynb>data table notebook</a>'\n",
              "            + ' to learn more about interactive tables.';\n",
              "          element.innerHTML = '';\n",
              "          dataTable['output_type'] = 'display_data';\n",
              "          await google.colab.output.renderOutput(dataTable, element);\n",
              "          const docLink = document.createElement('div');\n",
              "          docLink.innerHTML = docLinkHtml;\n",
              "          element.appendChild(docLink);\n",
              "        }\n",
              "      </script>\n",
              "    </div>\n",
              "  </div>\n",
              "  "
            ]
          },
          "metadata": {},
          "execution_count": 47
        }
      ]
    },
    {
      "cell_type": "code",
      "source": [
        "#then we can remove if the features if we dont want in the data\n",
        "#its upto you decide which u want to drop i decide to drop Time\n",
        "#axis = 1 for entire column\n",
        "\n",
        "x.drop('Time', axis = 1,inplace = True)"
      ],
      "metadata": {
        "id": "ZacfFC01zUzF"
      },
      "execution_count": 48,
      "outputs": []
    },
    {
      "cell_type": "code",
      "source": [
        "x.shape"
      ],
      "metadata": {
        "colab": {
          "base_uri": "https://localhost:8080/"
        },
        "id": "4zW2GXWnzU3Y",
        "outputId": "37185250-0e9a-4def-f02e-91138de0c69f"
      },
      "execution_count": 49,
      "outputs": [
        {
          "output_type": "execute_result",
          "data": {
            "text/plain": [
              "(283726, 29)"
            ]
          },
          "metadata": {},
          "execution_count": 49
        }
      ]
    },
    {
      "cell_type": "code",
      "source": [
        "from sklearn.model_selection import train_test_split"
      ],
      "metadata": {
        "id": "C6cSY-YjzU6A"
      },
      "execution_count": 50,
      "outputs": []
    },
    {
      "cell_type": "code",
      "source": [
        "x_train,x_test,y_train,y_test = train_test_split(x,y,test_size = 0.2,random_state = 0)"
      ],
      "metadata": {
        "id": "gKn7k-SB4VKD"
      },
      "execution_count": 51,
      "outputs": []
    },
    {
      "cell_type": "markdown",
      "source": [
        "#Pre-Processing Techniques\n",
        "#standard scaling\n",
        "- to correct the data which has value with huge difference \n",
        "- that type of data cause problem in output of the model\n",
        "- so we better process the data undo the differences\n",
        "- if we process the train data we aso need to transform test data"
      ],
      "metadata": {
        "id": "68Uk_L1q4sDY"
      }
    },
    {
      "cell_type": "code",
      "source": [
        "from sklearn.preprocessing import StandardScaler"
      ],
      "metadata": {
        "id": "xwzjAqdw4VL-"
      },
      "execution_count": 52,
      "outputs": []
    },
    {
      "cell_type": "code",
      "source": [
        "ss = StandardScaler()"
      ],
      "metadata": {
        "id": "GXaVWOcn4VPt"
      },
      "execution_count": 53,
      "outputs": []
    },
    {
      "cell_type": "code",
      "source": [
        "#we only use x_train to preprocess not y_train\n",
        "x_train = ss.fit_transform(x_train)"
      ],
      "metadata": {
        "id": "4RIeWFyy4VR2"
      },
      "execution_count": 55,
      "outputs": []
    },
    {
      "cell_type": "code",
      "source": [
        "x_test = ss.transform(x_test)"
      ],
      "metadata": {
        "id": "7hmvgt-JUWbP"
      },
      "execution_count": 90,
      "outputs": []
    },
    {
      "cell_type": "markdown",
      "source": [
        "#Model Creation\n",
        "#we selecting it as a Classification Model\n",
        "- bigger the data training and testing will take time \n",
        "- in bagging which run in parllel \n",
        "- in boosting it run one by one (sequential) and this gradient boosting will take more time\n",
        "- grid search time will take more time\n",
        "- randomised is fast but we need to mention how much value it should take\n",
        "- for practice we going to create all the classification model to check which is best and then we can tune it more\n",
        "- but inreal world it may differ"
      ],
      "metadata": {
        "id": "ix-xbA_K572N"
      }
    },
    {
      "cell_type": "code",
      "source": [
        "#to check time taken by model to execute u van use this one\n",
        "import time\n",
        "from sklearn.linear_model import LogisticRegression\n",
        "logreg = LogisticRegression()\n",
        "\n",
        "start = time.time()\n",
        "logreg.fit(x_train,y_train)\n",
        "end = time.time()\n",
        "print('Time Taken :',end - start)\n",
        "\n"
      ],
      "metadata": {
        "colab": {
          "base_uri": "https://localhost:8080/"
        },
        "id": "AURT93Rw4VV4",
        "outputId": "3bedd716-b306-4e2d-e2f3-9220df935d8b"
      },
      "execution_count": 91,
      "outputs": [
        {
          "output_type": "stream",
          "name": "stdout",
          "text": [
            "Time Taken : 2.541642427444458\n"
          ]
        }
      ]
    },
    {
      "cell_type": "code",
      "source": [
        "start = time.time()\n",
        "print('Train Score : ',logreg.score(x_train,y_train))\n",
        "print('Test Score : ',logreg.score(x_test,y_test))\n",
        "end = time.time()\n",
        "print('Time Taken :',end - start)"
      ],
      "metadata": {
        "colab": {
          "base_uri": "https://localhost:8080/"
        },
        "id": "8hmwO6A44VYX",
        "outputId": "ecf0540d-791b-47ea-e798-74e95767a1a5"
      },
      "execution_count": 92,
      "outputs": [
        {
          "output_type": "stream",
          "name": "stdout",
          "text": [
            "Train Score :  0.9992290069609657\n",
            "Test Score :  0.9991541254009093\n",
            "Time Taken : 0.06813287734985352\n"
          ]
        }
      ]
    },
    {
      "cell_type": "markdown",
      "source": [
        "- in above model we see that logistic regression overfititng \n",
        "- traing data is more than testing data\n",
        "- see we know accuracy is not great score so we can try f1 score / or ur preference\n",
        "- if u want to compute is score u no need y_predict\n",
        "- but for f1_score u need y_predict\n",
        "-f1_score(truevalue,y_pred)"
      ],
      "metadata": {
        "id": "JBg5Aza49wCz"
      }
    },
    {
      "cell_type": "code",
      "source": [
        "from sklearn.metrics import f1_score\n",
        "y_pred = logreg.predict(x_test)\n",
        "print('F1_Score : ',f1_score(y_test,y_pred))"
      ],
      "metadata": {
        "colab": {
          "base_uri": "https://localhost:8080/"
        },
        "id": "NPdyPIb14VbD",
        "outputId": "f0755571-d94d-4132-b00a-01b74d211a91"
      },
      "execution_count": 93,
      "outputs": [
        {
          "output_type": "stream",
          "name": "stdout",
          "text": [
            "F1_Score :  0.6712328767123288\n"
          ]
        }
      ]
    },
    {
      "cell_type": "code",
      "source": [
        "from sklearn.metrics import plot_confusion_matrix\n",
        "plot_confusion_matrix(logreg,x_test,y_test)"
      ],
      "metadata": {
        "colab": {
          "base_uri": "https://localhost:8080/",
          "height": 351
        },
        "id": "KcjhLW8M4VdQ",
        "outputId": "985a892a-fa6a-4e70-9c61-eef2da4ff4d2"
      },
      "execution_count": 94,
      "outputs": [
        {
          "output_type": "stream",
          "name": "stderr",
          "text": [
            "/usr/local/lib/python3.7/dist-packages/sklearn/utils/deprecation.py:87: FutureWarning: Function plot_confusion_matrix is deprecated; Function `plot_confusion_matrix` is deprecated in 1.0 and will be removed in 1.2. Use one of the class methods: ConfusionMatrixDisplay.from_predictions or ConfusionMatrixDisplay.from_estimator.\n",
            "  warnings.warn(msg, category=FutureWarning)\n"
          ]
        },
        {
          "output_type": "execute_result",
          "data": {
            "text/plain": [
              "<sklearn.metrics._plot.confusion_matrix.ConfusionMatrixDisplay at 0x7f1edb5d1610>"
            ]
          },
          "metadata": {},
          "execution_count": 94
        },
        {
          "output_type": "display_data",
          "data": {
            "text/plain": [
              "<Figure size 432x288 with 2 Axes>"
            ],
            "image/png": "[encoded data removed]"
          },
          "metadata": {
            "needs_background": "light"
          }
        }
      ]
    },
    {
      "cell_type": "markdown",
      "source": [
        "#SVM Model\n",
        "- Logistic Regression performed very badly\n",
        "- So we are trying different model"
      ],
      "metadata": {
        "id": "d9nXgAVd_jog"
      }
    },
    {
      "cell_type": "code",
      "source": [
        "from sklearn.svm import SVC\n",
        "svc = SVC()\n",
        "\n",
        "start = time.time()\n",
        "svc.fit(x_train,y_train)\n",
        "end = time.time()\n",
        "print('Time Taken :',end - start)"
      ],
      "metadata": {
        "colab": {
          "base_uri": "https://localhost:8080/"
        },
        "id": "2yyywM6e4VgI",
        "outputId": "1f7be564-c1b6-404f-baa1-358b23215c8c"
      },
      "execution_count": 95,
      "outputs": [
        {
          "output_type": "stream",
          "name": "stdout",
          "text": [
            "Time Taken : 413.71535992622375\n"
          ]
        }
      ]
    },
    {
      "cell_type": "code",
      "source": [
        "start = time.time()\n",
        "print('Train Score : ',svc.score(x_train,y_train))\n",
        "print('Test Score : ',svc.score(x_test,y_test))\n",
        "end = time.time()\n",
        "print('Time Taken :',end - start)"
      ],
      "metadata": {
        "colab": {
          "base_uri": "https://localhost:8080/"
        },
        "id": "-8m8rqx34ViY",
        "outputId": "8d2eff2f-9a18-4436-8f18-fb412de1c96c"
      },
      "execution_count": 96,
      "outputs": [
        {
          "output_type": "stream",
          "name": "stdout",
          "text": [
            "Train Score :  0.9996475460392986\n",
            "Test Score :  0.9994008388256441\n",
            "Time Taken : 100.95435237884521\n"
          ]
        }
      ]
    },
    {
      "cell_type": "code",
      "source": [
        "from sklearn.metrics import f1_score\n",
        "y_pred = svc.predict(x_test)\n",
        "print('F1_Score : ',f1_score(y_test,y_pred))\n",
        "\n",
        "from sklearn.metrics import plot_confusion_matrix\n",
        "plot_confusion_matrix(svc,x_test,y_test)"
      ],
      "metadata": {
        "colab": {
          "base_uri": "https://localhost:8080/",
          "height": 368
        },
        "id": "soRAU8D84Vlw",
        "outputId": "3e7b4382-45f0-4433-f36f-cd2d55a4aabc"
      },
      "execution_count": 97,
      "outputs": [
        {
          "output_type": "stream",
          "name": "stdout",
          "text": [
            "F1_Score :  0.7702702702702702\n"
          ]
        },
        {
          "output_type": "stream",
          "name": "stderr",
          "text": [
            "/usr/local/lib/python3.7/dist-packages/sklearn/utils/deprecation.py:87: FutureWarning: Function plot_confusion_matrix is deprecated; Function `plot_confusion_matrix` is deprecated in 1.0 and will be removed in 1.2. Use one of the class methods: ConfusionMatrixDisplay.from_predictions or ConfusionMatrixDisplay.from_estimator.\n",
            "  warnings.warn(msg, category=FutureWarning)\n"
          ]
        },
        {
          "output_type": "execute_result",
          "data": {
            "text/plain": [
              "<sklearn.metrics._plot.confusion_matrix.ConfusionMatrixDisplay at 0x7f1edb4d4b50>"
            ]
          },
          "metadata": {},
          "execution_count": 97
        },
        {
          "output_type": "display_data",
          "data": {
            "text/plain": [
              "<Figure size 432x288 with 2 Axes>"
            ],
            "image/png": "[encoded data removed]"
          },
          "metadata": {
            "needs_background": "light"
          }
        }
      ]
    },
    {
      "cell_type": "markdown",
      "source": [
        "#KNN Model"
      ],
      "metadata": {
        "id": "Egyc8yU9BQuH"
      }
    },
    {
      "cell_type": "code",
      "source": [
        "from sklearn.neighbors import KNeighborsClassifier\n",
        "knn = KNeighborsClassifier()\n",
        "\n",
        "start = time.time()\n",
        "knn.fit(x_train,y_train)\n",
        "end = time.time()\n",
        "print('Time Taken :',end - start)"
      ],
      "metadata": {
        "colab": {
          "base_uri": "https://localhost:8080/"
        },
        "id": "CffunUd8BULX",
        "outputId": "d95fae28-a417-42ea-97b7-451a5e6280b1"
      },
      "execution_count": 67,
      "outputs": [
        {
          "output_type": "stream",
          "name": "stdout",
          "text": [
            "Time Taken : 0.021791696548461914\n"
          ]
        }
      ]
    },
    {
      "cell_type": "code",
      "source": [
        "start = time.time()\n",
        "print('Train Score : ',knn.score(x_train,y_train))\n",
        "print('Test Score : ',knn.score(x_test,y_test))\n",
        "end = time.time()\n",
        "print('Time Taken :',end - start)"
      ],
      "metadata": {
        "colab": {
          "base_uri": "https://localhost:8080/"
        },
        "id": "rLzczM3-BULZ",
        "outputId": "433095b3-bef7-4821-bfa4-4440eaa92009"
      },
      "execution_count": 68,
      "outputs": [
        {
          "output_type": "stream",
          "name": "stdout",
          "text": [
            "Train Score :  0.999563838223632\n"
          ]
        },
        {
          "output_type": "stream",
          "name": "stderr",
          "text": [
            "/usr/local/lib/python3.7/dist-packages/sklearn/base.py:444: UserWarning: X has feature names, but KNeighborsClassifier was fitted without feature names\n",
            "  f\"X has feature names, but {self.__class__.__name__} was fitted without\"\n"
          ]
        },
        {
          "output_type": "stream",
          "name": "stdout",
          "text": [
            "Test Score :  0.9988545448137314\n",
            "Time Taken : 1607.7513058185577\n"
          ]
        }
      ]
    },
    {
      "cell_type": "code",
      "source": [
        "from sklearn.metrics import f1_score\n",
        "y_pred = knn.predict(x_test)\n",
        "print('F1_Score : ',f1_score(y_test,y_pred))\n",
        "\n",
        "from sklearn.metrics import plot_confusion_matrix\n",
        "plot_confusion_matrix(knn,x_test,y_test)"
      ],
      "metadata": {
        "colab": {
          "base_uri": "https://localhost:8080/",
          "height": 438
        },
        "id": "OqOkH3GoBULa",
        "outputId": "a4c2ff49-fd00-416d-a550-f82d5f65dad0"
      },
      "execution_count": 69,
      "outputs": [
        {
          "output_type": "stream",
          "name": "stderr",
          "text": [
            "/usr/local/lib/python3.7/dist-packages/sklearn/base.py:444: UserWarning: X has feature names, but KNeighborsClassifier was fitted without feature names\n",
            "  f\"X has feature names, but {self.__class__.__name__} was fitted without\"\n"
          ]
        },
        {
          "output_type": "stream",
          "name": "stdout",
          "text": [
            "F1_Score :  0.47154471544715443\n"
          ]
        },
        {
          "output_type": "stream",
          "name": "stderr",
          "text": [
            "/usr/local/lib/python3.7/dist-packages/sklearn/utils/deprecation.py:87: FutureWarning: Function plot_confusion_matrix is deprecated; Function `plot_confusion_matrix` is deprecated in 1.0 and will be removed in 1.2. Use one of the class methods: ConfusionMatrixDisplay.from_predictions or ConfusionMatrixDisplay.from_estimator.\n",
            "  warnings.warn(msg, category=FutureWarning)\n",
            "/usr/local/lib/python3.7/dist-packages/sklearn/base.py:444: UserWarning: X has feature names, but KNeighborsClassifier was fitted without feature names\n",
            "  f\"X has feature names, but {self.__class__.__name__} was fitted without\"\n"
          ]
        },
        {
          "output_type": "execute_result",
          "data": {
            "text/plain": [
              "<sklearn.metrics._plot.confusion_matrix.ConfusionMatrixDisplay at 0x7f1edbec4e10>"
            ]
          },
          "metadata": {},
          "execution_count": 69
        },
        {
          "output_type": "display_data",
          "data": {
            "text/plain": [
              "<Figure size 432x288 with 2 Axes>"
            ],
            "image/png": "[encoded data removed]"
          },
          "metadata": {
            "needs_background": "light"
          }
        }
      ]
    },
    {
      "cell_type": "markdown",
      "source": [
        "#Decision Tree Classifier\n",
        "- feature importance can be used for further process in like PCA Feature Reduction,or feature selection techniques"
      ],
      "metadata": {
        "id": "RLjnXUIXCLp7"
      }
    },
    {
      "cell_type": "code",
      "source": [
        "from sklearn.tree import DecisionTreeClassifier\n",
        "dtc = DecisionTreeClassifier()\n",
        "\n",
        "start = time.time()\n",
        "dtc.fit(x_train,y_train)\n",
        "end = time.time()\n",
        "print('Time Taken :',end - start)"
      ],
      "metadata": {
        "colab": {
          "base_uri": "https://localhost:8080/"
        },
        "id": "ezxhv0hGCWFj",
        "outputId": "ab529083-02c1-4483-c1eb-3494cac34105"
      },
      "execution_count": 98,
      "outputs": [
        {
          "output_type": "stream",
          "name": "stdout",
          "text": [
            "Time Taken : 17.62502884864807\n"
          ]
        }
      ]
    },
    {
      "cell_type": "code",
      "source": [
        "start = time.time()\n",
        "print('Train Score : ',dtc.score(x_train,y_train))\n",
        "print('Test Score : ',dtc.score(x_test,y_test))\n",
        "end = time.time()\n",
        "print('Time Taken :',end - start)"
      ],
      "metadata": {
        "colab": {
          "base_uri": "https://localhost:8080/"
        },
        "id": "iXdfXJvsCWFm",
        "outputId": "298e3076-dab8-4c54-8bf6-6ad0f5d7b6a8"
      },
      "execution_count": 99,
      "outputs": [
        {
          "output_type": "stream",
          "name": "stdout",
          "text": [
            "Train Score :  1.0\n",
            "Test Score :  0.9991012582384662\n",
            "Time Taken : 0.06862902641296387\n"
          ]
        }
      ]
    },
    {
      "cell_type": "code",
      "source": [
        "from sklearn.metrics import f1_score\n",
        "y_pred = dtc.predict(x_test)\n",
        "print('F1_Score : ',f1_score(y_test,y_pred))\n",
        "\n",
        "from sklearn.metrics import plot_confusion_matrix\n",
        "plot_confusion_matrix(dtc,x_test,y_test)"
      ],
      "metadata": {
        "colab": {
          "base_uri": "https://localhost:8080/",
          "height": 368
        },
        "id": "Owpytw6nCWFn",
        "outputId": "d9d16aa1-44f7-42ea-b9a1-c75c98c5bcd5"
      },
      "execution_count": 100,
      "outputs": [
        {
          "output_type": "stream",
          "name": "stdout",
          "text": [
            "F1_Score :  0.7182320441988951\n"
          ]
        },
        {
          "output_type": "stream",
          "name": "stderr",
          "text": [
            "/usr/local/lib/python3.7/dist-packages/sklearn/utils/deprecation.py:87: FutureWarning: Function plot_confusion_matrix is deprecated; Function `plot_confusion_matrix` is deprecated in 1.0 and will be removed in 1.2. Use one of the class methods: ConfusionMatrixDisplay.from_predictions or ConfusionMatrixDisplay.from_estimator.\n",
            "  warnings.warn(msg, category=FutureWarning)\n"
          ]
        },
        {
          "output_type": "execute_result",
          "data": {
            "text/plain": [
              "<sklearn.metrics._plot.confusion_matrix.ConfusionMatrixDisplay at 0x7f1edb46a450>"
            ]
          },
          "metadata": {},
          "execution_count": 100
        },
        {
          "output_type": "display_data",
          "data": {
            "text/plain": [
              "<Figure size 432x288 with 2 Axes>"
            ],
            "image/png": "[encoded data removed]"
          },
          "metadata": {
            "needs_background": "light"
          }
        }
      ]
    },
    {
      "cell_type": "code",
      "source": [
        "dtc.feature_importances_"
      ],
      "metadata": {
        "colab": {
          "base_uri": "https://localhost:8080/"
        },
        "id": "Qmvg71IfWqHN",
        "outputId": "80b408fe-3be4-44e1-ef4c-73cb7206bc74"
      },
      "execution_count": 101,
      "outputs": [
        {
          "output_type": "execute_result",
          "data": {
            "text/plain": [
              "array([1.58405189e-02, 0.00000000e+00, 1.94631507e-03, 1.68531609e-02,\n",
              "       2.60632895e-03, 2.02961661e-02, 1.42555677e-02, 2.96778538e-04,\n",
              "       9.13600979e-03, 3.66154532e-02, 5.05345129e-03, 5.66061288e-02,\n",
              "       1.77207262e-02, 9.35659305e-02, 1.84326122e-02, 1.50163919e-02,\n",
              "       5.40877698e-01, 4.05482305e-03, 8.33354359e-03, 1.35568357e-02,\n",
              "       5.97603794e-03, 1.65761783e-02, 3.90582699e-03, 8.44439326e-03,\n",
              "       1.46640947e-02, 2.25867756e-02, 3.04705335e-02, 0.00000000e+00,\n",
              "       6.31171937e-03])"
            ]
          },
          "metadata": {},
          "execution_count": 101
        }
      ]
    },
    {
      "cell_type": "markdown",
      "source": [
        "#Ensemble Learning\n",
        "#RandomForest"
      ],
      "metadata": {
        "id": "N_0Q0cp9C4rh"
      }
    },
    {
      "cell_type": "code",
      "source": [
        "from sklearn.ensemble import RandomForestClassifier\n",
        "rfc = RandomForestClassifier()\n",
        "\n",
        "start = time.time()\n",
        "rfc.fit(x_train,y_train)\n",
        "end = time.time()\n",
        "print('Time Taken :',end - start)"
      ],
      "metadata": {
        "colab": {
          "base_uri": "https://localhost:8080/"
        },
        "id": "6kiQ7dmYDLvC",
        "outputId": "5c61eccd-0c3a-4627-c7ad-bd5e52645155"
      },
      "execution_count": 102,
      "outputs": [
        {
          "output_type": "stream",
          "name": "stdout",
          "text": [
            "Time Taken : 271.19315576553345\n"
          ]
        }
      ]
    },
    {
      "cell_type": "code",
      "source": [
        "start = time.time()\n",
        "print('Train Score : ',rfc.score(x_train,y_train))\n",
        "print('Test Score : ',rfc.score(x_test,y_test))\n",
        "end = time.time()\n",
        "print('Time Taken :',end - start)"
      ],
      "metadata": {
        "colab": {
          "base_uri": "https://localhost:8080/"
        },
        "id": "5dVUviDYDLvE",
        "outputId": "4f401f96-5c26-440d-afcb-17699d32c4a5"
      },
      "execution_count": 103,
      "outputs": [
        {
          "output_type": "stream",
          "name": "stdout",
          "text": [
            "Train Score :  1.0\n",
            "Test Score :  0.9995770627004547\n",
            "Time Taken : 3.467046022415161\n"
          ]
        }
      ]
    },
    {
      "cell_type": "code",
      "source": [
        "from sklearn.metrics import f1_score\n",
        "y_pred = rfc.predict(x_test)\n",
        "print('F1_Score : ',f1_score(y_test,y_pred))\n",
        "\n",
        "from sklearn.metrics import plot_confusion_matrix\n",
        "plot_confusion_matrix(rfc,x_test,y_test)"
      ],
      "metadata": {
        "colab": {
          "base_uri": "https://localhost:8080/",
          "height": 368
        },
        "id": "u8xzIOXdDLvF",
        "outputId": "1fc22d49-f87d-4e00-b5e7-985244878b48"
      },
      "execution_count": 104,
      "outputs": [
        {
          "output_type": "stream",
          "name": "stdout",
          "text": [
            "F1_Score :  0.8481012658227848\n"
          ]
        },
        {
          "output_type": "stream",
          "name": "stderr",
          "text": [
            "/usr/local/lib/python3.7/dist-packages/sklearn/utils/deprecation.py:87: FutureWarning: Function plot_confusion_matrix is deprecated; Function `plot_confusion_matrix` is deprecated in 1.0 and will be removed in 1.2. Use one of the class methods: ConfusionMatrixDisplay.from_predictions or ConfusionMatrixDisplay.from_estimator.\n",
            "  warnings.warn(msg, category=FutureWarning)\n"
          ]
        },
        {
          "output_type": "execute_result",
          "data": {
            "text/plain": [
              "<sklearn.metrics._plot.confusion_matrix.ConfusionMatrixDisplay at 0x7f1edb474710>"
            ]
          },
          "metadata": {},
          "execution_count": 104
        },
        {
          "output_type": "display_data",
          "data": {
            "text/plain": [
              "<Figure size 432x288 with 2 Axes>"
            ],
            "image/png": "[encoded data removed]"
          },
          "metadata": {
            "needs_background": "light"
          }
        }
      ]
    },
    {
      "cell_type": "markdown",
      "source": [
        "#Gradient Boosting Classifier\n"
      ],
      "metadata": {
        "id": "fuEXGPePF5Yi"
      }
    },
    {
      "cell_type": "code",
      "source": [
        "from sklearn.ensemble import GradientBoostingClassifier\n",
        "gbc = GradientBoostingClassifier()\n",
        "\n",
        "start = time.time()\n",
        "gbc.fit(x_train,y_train)\n",
        "end = time.time()\n",
        "print('Time Taken :',end - start)"
      ],
      "metadata": {
        "colab": {
          "base_uri": "https://localhost:8080/"
        },
        "id": "QtnMnzjeGAw9",
        "outputId": "8636535b-6554-40bf-d4fa-e910fc2b0ccf"
      },
      "execution_count": 105,
      "outputs": [
        {
          "output_type": "stream",
          "name": "stdout",
          "text": [
            "Time Taken : 367.7157542705536\n"
          ]
        }
      ]
    },
    {
      "cell_type": "code",
      "source": [
        "start = time.time()\n",
        "print('Train Score : ',gbc.score(x_train,y_train))\n",
        "print('Test Score : ',gbc.score(x_test,y_test))\n",
        "end = time.time()\n",
        "print('Time Taken :',end - start)"
      ],
      "metadata": {
        "colab": {
          "base_uri": "https://localhost:8080/"
        },
        "id": "YNvly7z6GAw-",
        "outputId": "2003ada7-ebcc-47d1-a9d4-641a0a9ba996"
      },
      "execution_count": 106,
      "outputs": [
        {
          "output_type": "stream",
          "name": "stdout",
          "text": [
            "Train Score :  0.9993523658472112\n",
            "Test Score :  0.9992069925633524\n",
            "Time Taken : 0.4315612316131592\n"
          ]
        }
      ]
    },
    {
      "cell_type": "code",
      "source": [
        "from sklearn.metrics import f1_score\n",
        "y_pred = gbc.predict(x_test)\n",
        "print('F1_Score : ',f1_score(y_test,y_pred))\n",
        "\n",
        "from sklearn.metrics import plot_confusion_matrix\n",
        "plot_confusion_matrix(gbc,x_test,y_test)"
      ],
      "metadata": {
        "colab": {
          "base_uri": "https://localhost:8080/",
          "height": 368
        },
        "id": "f0dCTii2GAw_",
        "outputId": "625d513f-4b9e-4baa-ffc5-3828fbf71374"
      },
      "execution_count": 107,
      "outputs": [
        {
          "output_type": "stream",
          "name": "stdout",
          "text": [
            "F1_Score :  0.689655172413793\n"
          ]
        },
        {
          "output_type": "stream",
          "name": "stderr",
          "text": [
            "/usr/local/lib/python3.7/dist-packages/sklearn/utils/deprecation.py:87: FutureWarning: Function plot_confusion_matrix is deprecated; Function `plot_confusion_matrix` is deprecated in 1.0 and will be removed in 1.2. Use one of the class methods: ConfusionMatrixDisplay.from_predictions or ConfusionMatrixDisplay.from_estimator.\n",
            "  warnings.warn(msg, category=FutureWarning)\n"
          ]
        },
        {
          "output_type": "execute_result",
          "data": {
            "text/plain": [
              "<sklearn.metrics._plot.confusion_matrix.ConfusionMatrixDisplay at 0x7f1edb8a2d10>"
            ]
          },
          "metadata": {},
          "execution_count": 107
        },
        {
          "output_type": "display_data",
          "data": {
            "text/plain": [
              "<Figure size 432x288 with 2 Axes>"
            ],
            "image/png": "[encoded data removed]"
          },
          "metadata": {
            "needs_background": "light"
          }
        }
      ]
    },
    {
      "cell_type": "markdown",
      "source": [
        "# Naive Bayes\n",
        "- when the data is textual and convert to bag of word like conutvectorize we use multinomialNB\n",
        "- when the data is numerical like we have now we need t use GaussianNB "
      ],
      "metadata": {
        "id": "mGDYcK0JEiBV"
      }
    },
    {
      "cell_type": "code",
      "source": [
        "from sklearn.naive_bayes import GaussianNB\n",
        "gb = GaussianNB()\n",
        "\n",
        "start = time.time()\n",
        "gb.fit(x_train,y_train)\n",
        "end = time.time()\n",
        "print('Time Taken :',end - start)"
      ],
      "metadata": {
        "colab": {
          "base_uri": "https://localhost:8080/"
        },
        "id": "vdu3wXf5EmcO",
        "outputId": "eb7d49ce-6af0-463f-a91b-14d678a5491e"
      },
      "execution_count": 108,
      "outputs": [
        {
          "output_type": "stream",
          "name": "stdout",
          "text": [
            "Time Taken : 0.1340479850769043\n"
          ]
        }
      ]
    },
    {
      "cell_type": "code",
      "source": [
        "start = time.time()\n",
        "print('Train Score : ',gb.score(x_train,y_train))\n",
        "print('Test Score : ',gb.score(x_test,y_test))\n",
        "end = time.time()\n",
        "print('Time Taken :',end - start)"
      ],
      "metadata": {
        "colab": {
          "base_uri": "https://localhost:8080/"
        },
        "id": "n6e_GT7PEmcQ",
        "outputId": "eea945d2-ee02-4dca-aa03-e0ca3349c55c"
      },
      "execution_count": 109,
      "outputs": [
        {
          "output_type": "stream",
          "name": "stdout",
          "text": [
            "Train Score :  0.9777072869856375\n",
            "Test Score :  0.977619567899059\n",
            "Time Taken : 0.1642591953277588\n"
          ]
        }
      ]
    },
    {
      "cell_type": "code",
      "source": [
        "from sklearn.metrics import f1_score\n",
        "y_pred = gb.predict(x_test)\n",
        "print('F1_Score : ',f1_score(y_test,y_pred))\n",
        "\n",
        "from sklearn.metrics import plot_confusion_matrix\n",
        "plot_confusion_matrix(gb,x_test,y_test)"
      ],
      "metadata": {
        "colab": {
          "base_uri": "https://localhost:8080/",
          "height": 368
        },
        "id": "KB-2WZ8GEmcQ",
        "outputId": "5c09eb9c-238d-4afe-d481-7c8b6ae00529"
      },
      "execution_count": 110,
      "outputs": [
        {
          "output_type": "stream",
          "name": "stdout",
          "text": [
            "F1_Score :  0.10056657223796035\n"
          ]
        },
        {
          "output_type": "stream",
          "name": "stderr",
          "text": [
            "/usr/local/lib/python3.7/dist-packages/sklearn/utils/deprecation.py:87: FutureWarning: Function plot_confusion_matrix is deprecated; Function `plot_confusion_matrix` is deprecated in 1.0 and will be removed in 1.2. Use one of the class methods: ConfusionMatrixDisplay.from_predictions or ConfusionMatrixDisplay.from_estimator.\n",
            "  warnings.warn(msg, category=FutureWarning)\n"
          ]
        },
        {
          "output_type": "execute_result",
          "data": {
            "text/plain": [
              "<sklearn.metrics._plot.confusion_matrix.ConfusionMatrixDisplay at 0x7f1edb272990>"
            ]
          },
          "metadata": {},
          "execution_count": 110
        },
        {
          "output_type": "display_data",
          "data": {
            "text/plain": [
              "<Figure size 432x288 with 2 Axes>"
            ],
            "image/png": "[encoded data removed]"
          },
          "metadata": {
            "needs_background": "light"
          }
        }
      ]
    },
    {
      "cell_type": "markdown",
      "source": [
        "#SGD Classifier"
      ],
      "metadata": {
        "id": "YNCHs894Gkym"
      }
    },
    {
      "cell_type": "code",
      "source": [
        "from sklearn.linear_model import SGDClassifier\n",
        "sgd = SGDClassifier()\n",
        "\n",
        "start = time.time()\n",
        "sgd.fit(x_train,y_train)\n",
        "end = time.time()\n",
        "print('Time Taken :',end - start)"
      ],
      "metadata": {
        "colab": {
          "base_uri": "https://localhost:8080/"
        },
        "id": "dLUU8A-uGvrS",
        "outputId": "7dee02ce-4fb5-4525-eeb3-4f1f0994a577"
      },
      "execution_count": 111,
      "outputs": [
        {
          "output_type": "stream",
          "name": "stdout",
          "text": [
            "Time Taken : 0.7330732345581055\n"
          ]
        }
      ]
    },
    {
      "cell_type": "code",
      "source": [
        "start = time.time()\n",
        "print('Train Score : ',sgd.score(x_train,y_train))\n",
        "print('Test Score : ',sgd.score(x_test,y_test))\n",
        "end = time.time()\n",
        "print('Time Taken :',end - start)"
      ],
      "metadata": {
        "colab": {
          "base_uri": "https://localhost:8080/"
        },
        "id": "yGyDh6R2GvrU",
        "outputId": "e0a26c54-3ecb-4a14-8d46-19321ecfa3ed"
      },
      "execution_count": 112,
      "outputs": [
        {
          "output_type": "stream",
          "name": "stdout",
          "text": [
            "Train Score :  0.9991408934707904\n",
            "Test Score :  0.9989602791386177\n",
            "Time Taken : 0.07401466369628906\n"
          ]
        }
      ]
    },
    {
      "cell_type": "code",
      "source": [
        "from sklearn.metrics import f1_score\n",
        "y_pred = sgd.predict(x_test)\n",
        "print('F1_Score : ',f1_score(y_test,y_pred))\n",
        "\n",
        "from sklearn.metrics import plot_confusion_matrix\n",
        "plot_confusion_matrix(sgd,x_test,y_test)"
      ],
      "metadata": {
        "colab": {
          "base_uri": "https://localhost:8080/",
          "height": 368
        },
        "id": "faM8zRXQGvrV",
        "outputId": "39724588-8595-4203-ce2c-4d8733c0fea4"
      },
      "execution_count": 113,
      "outputs": [
        {
          "output_type": "stream",
          "name": "stdout",
          "text": [
            "F1_Score :  0.5629629629629629\n"
          ]
        },
        {
          "output_type": "stream",
          "name": "stderr",
          "text": [
            "/usr/local/lib/python3.7/dist-packages/sklearn/utils/deprecation.py:87: FutureWarning: Function plot_confusion_matrix is deprecated; Function `plot_confusion_matrix` is deprecated in 1.0 and will be removed in 1.2. Use one of the class methods: ConfusionMatrixDisplay.from_predictions or ConfusionMatrixDisplay.from_estimator.\n",
            "  warnings.warn(msg, category=FutureWarning)\n"
          ]
        },
        {
          "output_type": "execute_result",
          "data": {
            "text/plain": [
              "<sklearn.metrics._plot.confusion_matrix.ConfusionMatrixDisplay at 0x7f1edb19ab10>"
            ]
          },
          "metadata": {},
          "execution_count": 113
        },
        {
          "output_type": "display_data",
          "data": {
            "text/plain": [
              "<Figure size 432x288 with 2 Axes>"
            ],
            "image/png": "[encoded data removed]"
          },
          "metadata": {
            "needs_background": "light"
          }
        }
      ]
    },
    {
      "cell_type": "markdown",
      "source": [
        "#Tuning Model\n",
        "- Once we tested the model\n",
        "- we need to tune the model\n",
        "- lets consider Decsion Tree classifier to tune then proceed accordingly\n",
        "- but in real we need to do all the above models and take the best one and then we need to tune that particular model to perfection.\n",
        "- if the below tunning value also can be selected and done for the best model \n",
        "- so instead of dtc we can use the best model their with their parameters"
      ],
      "metadata": {
        "id": "PEWvv7b0Hsue"
      }
    },
    {
      "cell_type": "markdown",
      "source": [
        "#Randomized Search CV"
      ],
      "metadata": {
        "id": "ktUWg4wxRkTL"
      }
    },
    {
      "cell_type": "code",
      "source": [
        "from sklearn.model_selection import GridSearchCV, RandomizedSearchCV"
      ],
      "metadata": {
        "id": "gFCBsHC7ENJr"
      },
      "execution_count": 114,
      "outputs": []
    },
    {
      "cell_type": "code",
      "source": [
        "param_dist = {'max_depth':[3,6,9], 'min_samples_leaf':[3,5,7],'criterion':['gini','entropy']}"
      ],
      "metadata": {
        "id": "wMJxU0wMIQ-t"
      },
      "execution_count": 115,
      "outputs": []
    },
    {
      "cell_type": "code",
      "source": [
        "#n_iter it shld be 18 depth =3,sampleleaf =3 ,criterion = 2\n",
        "#so 3*3*2 = 18 but due to take time we are reducing it \n",
        "#in rscv if u pass 18 iter but in  its cv is 3 to 5 fold \n",
        "#so if u consider that 18*5 = ? that much model it will produce \n",
        "#but dur to time consuption cv = 3 we will give \n",
        "rscv = RandomizedSearchCV(dtc,param_dist,n_iter = 6,cv = 3)\n",
        "rscv.fit(x_train,y_train)\n",
        "print('Best Parameters : ',rscv.best_params_)\n",
        "print('Best Estimator : ',rscv.best_estimator_)\n",
        "print('RSCV Test Score : ',rscv.score(x_test,y_test))"
      ],
      "metadata": {
        "colab": {
          "base_uri": "https://localhost:8080/"
        },
        "id": "sYb3NvCTKRqw",
        "outputId": "d803c3ec-49ca-42ec-80e8-1d27611b54a3"
      },
      "execution_count": 116,
      "outputs": [
        {
          "output_type": "stream",
          "name": "stdout",
          "text": [
            "Best Parameters :  {'min_samples_leaf': 5, 'max_depth': 6, 'criterion': 'gini'}\n",
            "Best Estimator :  DecisionTreeClassifier(max_depth=6, min_samples_leaf=5)\n",
            "RSCV Test Score :  0.9994537059880872\n"
          ]
        }
      ]
    },
    {
      "cell_type": "markdown",
      "source": [
        "#GridSearchCv"
      ],
      "metadata": {
        "id": "aHQ0ySEURqOS"
      }
    },
    {
      "cell_type": "code",
      "source": [
        "gs = GridSearchCV(dtc,param_dist,cv = 3)\n",
        "gs.fit(x_train,y_train)\n",
        "print('Best Parameters : ',gs.best_params_)\n",
        "print('Best Estimator : ',gs.best_estimator_)\n",
        "print('RSCV Test Score : ',gs.score(x_test,y_test))"
      ],
      "metadata": {
        "colab": {
          "base_uri": "https://localhost:8080/"
        },
        "id": "elYX6ZTyRpmq",
        "outputId": "6c0c8b6a-4175-4341-a473-c2e32b898275"
      },
      "execution_count": 117,
      "outputs": [
        {
          "output_type": "stream",
          "name": "stdout",
          "text": [
            "Best Parameters :  {'criterion': 'entropy', 'max_depth': 6, 'min_samples_leaf': 3}\n",
            "Best Estimator :  DecisionTreeClassifier(criterion='entropy', max_depth=6, min_samples_leaf=3)\n",
            "RSCV Test Score :  0.9994184612131252\n"
          ]
        }
      ]
    },
    {
      "cell_type": "markdown",
      "source": [
        "#it is Proven that RandomForestClassifier is the BEST Out of all Classification Model for this Data\n",
        "- so further we need to do Randomsearch or Gridsearch using RandomForest to find the best parameters for further tunning then the score need to be submitted "
      ],
      "metadata": {
        "id": "4W1CHwItcbeW"
      }
    },
    {
      "cell_type": "code",
      "source": [],
      "metadata": {
        "id": "oCZ3AjLEKR27"
      },
      "execution_count": 117,
      "outputs": []
    }
  ]
}